{
 "cells": [
  {
   "cell_type": "markdown",
   "id": "bound-nowhere",
   "metadata": {},
   "source": [
    "<h1>CIFAR 10</h1>\n",
    "\n",
    "<h1>Importing Modules</h1>\n"
   ]
  },
  {
   "cell_type": "code",
   "execution_count": 1,
   "id": "consolidated-degree",
   "metadata": {},
   "outputs": [],
   "source": [
    "import torch\n",
    "import torchvision\n",
    "import numpy as np\n",
    "import matplotlib.pyplot as plt"
   ]
  },
  {
   "cell_type": "markdown",
   "id": "intensive-february",
   "metadata": {},
   "source": [
    "# Loading Data"
   ]
  },
  {
   "cell_type": "code",
   "execution_count": 2,
   "id": "considered-producer",
   "metadata": {
    "scrolled": true
   },
   "outputs": [
    {
     "name": "stdout",
     "output_type": "stream",
     "text": [
      "Files already downloaded and verified\n",
      "Files already downloaded and verified\n"
     ]
    }
   ],
   "source": [
    "train_batchsize = 100\n",
    "test_batchsize = 10\n",
    "resized_img_size = 32\n",
    "transform = torchvision.transforms.Compose(\n",
    "    [torchvision.transforms.Resize(size=(resized_img_size, resized_img_size)),\n",
    "     torchvision.transforms.ToTensor()])\n",
    "train_data = torchvision.datasets.CIFAR10(root='data', train=True,\n",
    "                                        download=True, transform=transform)\n",
    "test_data = torchvision.datasets.CIFAR10(root='data', train=False,\n",
    "                                       download=True, transform=transform)\n",
    "train_loader = torch.utils.data.DataLoader(train_data, batch_size=train_batchsize)\n",
    "\n",
    "test_loader = torch.utils.data.DataLoader(test_data, batch_size=test_batchsize)\n",
    "\n",
    "classes = ('plane', 'car', 'bird', 'cat',\n",
    "           'deer', 'dog', 'frog', 'horse', 'ship', 'truck')"
   ]
  },
  {
   "cell_type": "markdown",
   "id": "historical-headquarters",
   "metadata": {},
   "source": [
    "# Visualize data"
   ]
  },
  {
   "cell_type": "code",
   "execution_count": 3,
   "id": "short-moldova",
   "metadata": {},
   "outputs": [
    {
     "data": {
      "text/plain": [
       "<matplotlib.image.AxesImage at 0x7fdc07b37700>"
      ]
     },
     "execution_count": 3,
     "metadata": {},
     "output_type": "execute_result"
    },
    {
     "data": {
      "image/png": "[encoded data removed]",
      "text/plain": [
       "<Figure size 432x288 with 1 Axes>"
      ]
     },
     "metadata": {
      "needs_background": "light"
     },
     "output_type": "display_data"
    }
   ],
   "source": [
    "plt.imshow(train_data[10][0].permute(1,2,0)) "
   ]
  },
  {
   "cell_type": "markdown",
   "id": "checked-scope",
   "metadata": {},
   "source": [
    "# Model"
   ]
  },
  {
   "cell_type": "code",
   "execution_count": 4,
   "id": "twelve-inspector",
   "metadata": {},
   "outputs": [],
   "source": [
    "import torch.nn as nn\n",
    "import torch.nn.functional as F \n",
    "class Net(nn.Module):\n",
    "    def __init__(self):\n",
    "        super(Net, self).__init__()\n",
    "        self.conv1 = nn.Conv2d(3,5,(5,5),padding = \"same\")\n",
    "        self.pool1 = nn.MaxPool2d((3,3),stride=2)\n",
    "        self.conv2 = nn.Conv2d(5,7,(5,5),padding=\"same\")\n",
    "        self.pool2 = nn.MaxPool2d((3,3),stride=2)\n",
    "        self.conv3 = nn.Conv2d(7,9,(5,5),padding=\"same\")\n",
    "        self.pool3 = nn.MaxPool2d((3,3),stride=2)\n",
    "        self.linearlayer = nn.Linear(144,256)\n",
    "        self.linearlayer2 = nn.Linear(256,10)\n",
    "    def forward(self,X):\n",
    "        X = self.pool1(F.relu(self.conv1(X)))\n",
    "        X = self.pool2(F.relu(self.conv2(X)))\n",
    "        X = self.pool3(F.relu(self.conv3(X)))\n",
    "        X = X.view(-1,81) #Flatten\n",
    "        #X = F.relu(self.linearlayer(X))\n",
    "        #X = self.linearlayer2(X)\n",
    "        return X\n",
    "model = Net()\n",
    "#print(train_loader)\n",
    "#print(model([train_data[0][0]]))"
   ]
  },
  {
   "cell_type": "code",
   "execution_count": 7,
   "id": "crude-tractor",
   "metadata": {
    "scrolled": true
   },
   "outputs": [
    {
     "name": "stdout",
     "output_type": "stream",
     "text": [
      "Optimizer :  RMSprop \n",
      "\n",
      "Epoch: 1 \tTraining Loss: 2.595338\n",
      "Epoch: 2 \tTraining Loss: 2.418368\n",
      "Epoch: 3 \tTraining Loss: 2.387967\n",
      "Epoch: 4 \tTraining Loss: 2.340788\n",
      "Epoch: 5 \tTraining Loss: 2.313610\n",
      "Epoch: 6 \tTraining Loss: 2.277159\n",
      "Epoch: 7 \tTraining Loss: 2.259121\n",
      "Epoch: 8 \tTraining Loss: 2.246493\n",
      "Epoch: 9 \tTraining Loss: 2.237967\n",
      "Epoch: 10 \tTraining Loss: 2.230173\n",
      "Epoch: 11 \tTraining Loss: 2.227934\n",
      "Epoch: 12 \tTraining Loss: 2.223791\n",
      "Epoch: 13 \tTraining Loss: 2.222126\n",
      "Epoch: 14 \tTraining Loss: 2.218177\n",
      "Epoch: 15 \tTraining Loss: 2.215188\n",
      "\n",
      "-----------------------------------------\n",
      "\n",
      "Optimizer :  Adam_scratch \n",
      "\n",
      "Epoch: 1 \tTraining Loss: 2.391550\n",
      "Epoch: 2 \tTraining Loss: 2.277755\n",
      "Epoch: 3 \tTraining Loss: 2.256017\n",
      "Epoch: 4 \tTraining Loss: 2.238493\n",
      "Epoch: 5 \tTraining Loss: 2.219092\n",
      "Epoch: 6 \tTraining Loss: 2.179754\n",
      "Epoch: 7 \tTraining Loss: 2.114354\n",
      "Epoch: 8 \tTraining Loss: 2.089770\n",
      "Epoch: 9 \tTraining Loss: 2.074109\n",
      "Epoch: 10 \tTraining Loss: 2.061531\n",
      "Epoch: 11 \tTraining Loss: 2.051253\n",
      "Epoch: 12 \tTraining Loss: 2.040212\n",
      "Epoch: 13 \tTraining Loss: 2.022936\n",
      "Epoch: 14 \tTraining Loss: 2.007116\n",
      "Epoch: 15 \tTraining Loss: 1.994458\n",
      "\n",
      "-----------------------------------------\n",
      "\n",
      "Optimizer :  Adam \n",
      "\n",
      "Epoch: 1 \tTraining Loss: 2.355168\n",
      "Epoch: 2 \tTraining Loss: 2.188613\n",
      "Epoch: 3 \tTraining Loss: 2.133681\n",
      "Epoch: 4 \tTraining Loss: 2.088207\n",
      "Epoch: 5 \tTraining Loss: 2.034182\n",
      "Epoch: 6 \tTraining Loss: 2.014166\n",
      "Epoch: 7 \tTraining Loss: 1.999814\n",
      "Epoch: 8 \tTraining Loss: 1.989930\n",
      "Epoch: 9 \tTraining Loss: 1.986622\n",
      "Epoch: 10 \tTraining Loss: 1.980228\n",
      "Epoch: 11 \tTraining Loss: 1.975813\n",
      "Epoch: 12 \tTraining Loss: 1.972759\n",
      "Epoch: 13 \tTraining Loss: 1.965486\n",
      "Epoch: 14 \tTraining Loss: 1.965663\n",
      "Epoch: 15 \tTraining Loss: 1.966391\n",
      "\n",
      "-----------------------------------------\n",
      "\n",
      "Optimizer :  SGD \n",
      "\n",
      "Epoch: 1 \tTraining Loss: 2.416411\n",
      "Epoch: 2 \tTraining Loss: 2.307314\n",
      "Epoch: 3 \tTraining Loss: 2.283564\n",
      "Epoch: 4 \tTraining Loss: 2.268800\n",
      "Epoch: 5 \tTraining Loss: 2.254853\n",
      "Epoch: 6 \tTraining Loss: 2.241855\n",
      "Epoch: 7 \tTraining Loss: 2.221833\n",
      "Epoch: 8 \tTraining Loss: 2.201050\n",
      "Epoch: 9 \tTraining Loss: 2.177032\n",
      "Epoch: 10 \tTraining Loss: 2.137129\n",
      "Epoch: 11 \tTraining Loss: 2.110229\n",
      "Epoch: 12 \tTraining Loss: 2.092575\n",
      "Epoch: 13 \tTraining Loss: 2.077297\n",
      "Epoch: 14 \tTraining Loss: 2.063094\n",
      "Epoch: 15 \tTraining Loss: 2.048973\n",
      "\n",
      "-----------------------------------------\n",
      "\n",
      "Optimizer :  Adadelta \n",
      "\n",
      "Epoch: 1 \tTraining Loss: 2.813338\n",
      "Epoch: 2 \tTraining Loss: 2.366330\n",
      "Epoch: 3 \tTraining Loss: 2.345675\n",
      "Epoch: 4 \tTraining Loss: 2.329141\n",
      "Epoch: 5 \tTraining Loss: 2.316214\n",
      "Epoch: 6 \tTraining Loss: 2.306469\n",
      "Epoch: 7 \tTraining Loss: 2.298989\n",
      "Epoch: 8 \tTraining Loss: 2.293121\n",
      "Epoch: 9 \tTraining Loss: 2.288416\n",
      "Epoch: 10 \tTraining Loss: 2.284488\n",
      "Epoch: 11 \tTraining Loss: 2.281158\n",
      "Epoch: 12 \tTraining Loss: 2.278243\n",
      "Epoch: 13 \tTraining Loss: 2.275588\n",
      "Epoch: 14 \tTraining Loss: 2.273214\n",
      "Epoch: 15 \tTraining Loss: 2.270977\n",
      "\n",
      "-----------------------------------------\n",
      "\n",
      "{'RMSprop': [2.5953378620147705, 2.4183683772087097, 2.3879665179252623, 2.3407878642082216, 2.3136100883483888, 2.2771588401794434, 2.2591207089424135, 2.246492527484894, 2.237966694355011, 2.2301730041503904, 2.227933790683746, 2.2237906889915466, 2.222125507354736, 2.218176586151123, 2.2151879191398622], 'Adam_scratch': [2.3915499076843263, 2.2777554116249084, 2.256016912460327, 2.2384934635162352, 2.219091773033142, 2.179753782749176, 2.114354493141174, 2.089769532442093, 2.0741085093021394, 2.061531488895416, 2.051252613544464, 2.0402116239070893, 2.022935816049576, 2.0071159744262697, 1.994458024740219], 'Adam': [2.355168366909027, 2.1886127293109894, 2.133680970907211, 2.088206723451614, 2.034182208776474, 2.01416628241539, 1.9998136596679688, 1.9899300229549408, 1.9866224291324615, 1.980227531671524, 1.9758126542568206, 1.972758719921112, 1.9654860932826996, 1.9656626794338226, 1.966391283273697], 'SGD': [2.4164109683036803, 2.3073139686584474, 2.283563771724701, 2.2687997159957884, 2.2548528604507445, 2.241855185031891, 2.221832884788513, 2.201049533843994, 2.17703235244751, 2.1371292741298675, 2.110229302406311, 2.0925746071338653, 2.077297083377838, 2.0630944948196412, 2.0489734687805177], 'Adadelta': [2.8133377594947815, 2.366329891681671, 2.345674744606018, 2.329141152381897, 2.3162143878936767, 2.306468548297882, 2.298989216327667, 2.2931208987236023, 2.288416179180145, 2.2844878125190733, 2.2811584486961363, 2.2782432036399842, 2.2755877180099486, 2.27321390914917, 2.270977291584015]}\n"
     ]
    }
   ],
   "source": [
    "from ADAM import ADAM\n",
    "trainingLoss = {}\n",
    "# Fixed seed for random weight initialization (to keep the weights same for all\n",
    "# the models)\n",
    "#torch.manual_seed(3)\n",
    "seed = 10\n",
    "file = open(\"./results/TrainingLossess.txt\",\"w\")\n",
    "def trainDifOptimizer(optmzr):\n",
    "    torch.manual_seed(seed)\n",
    "    model = Net()\n",
    "    criterion = nn.CrossEntropyLoss()\n",
    "    optimizer = None\n",
    "    if optmzr=='Adam_scratch':\n",
    "      optimizer = ADAM(model.parameters(), lr=0.01) # lr=0.001 -> standard\n",
    "    else:\n",
    "      optimizer = getattr(torch.optim, optmzr)(model.parameters(), lr=0.01)\n",
    "    \n",
    "    n_epochs = 15  # suggest training between 20-50 epochs\n",
    "\n",
    "    model.train()  # prep model for training\n",
    "    trainLossForOptimizer = []\n",
    "    print(\"Optimizer : \", optmzr, \"\\n\")\n",
    "    file.writelines([\"Optimizer : \", optmzr, \"\\n\"])\n",
    "    for epoch in range(n_epochs):\n",
    "        train_loss = 0.0\n",
    "\n",
    "        for data, target in train_loader:\n",
    "            # clear the gradients of all optimized variables\n",
    "            optimizer.zero_grad()\n",
    "            # forward pass: compute predicted outputs by passing inputs to the model\n",
    "            output = model(data)\n",
    "            # calculate the loss\n",
    "            loss = criterion(output, target)\n",
    "            # backward pass: compute gradient of the loss with respect to model parameters\n",
    "            loss.backward()\n",
    "            # perform a single optimization step (parameter update)\n",
    "            optimizer.step()\n",
    "            # update running training loss\n",
    "            train_loss += loss.item()*data.size(0)\n",
    "\n",
    "        # print training statistics\n",
    "        # calculate average loss over an epoch\n",
    "        train_loss = train_loss/len(train_loader.dataset)\n",
    "        trainLossForOptimizer.append(train_loss)\n",
    "        \n",
    "        print('Epoch: {} \\tTraining Loss: {:.6f}'.format(\n",
    "            epoch+1,\n",
    "            train_loss\n",
    "        ))\n",
    "        file.write('Epoch: {} \\tTraining Loss: {:.6f}'.format(\n",
    "            epoch+1,\n",
    "            train_loss\n",
    "        ))\n",
    "    torch.save(model, 'saved_models/'+optmzr+'_cnn_model')\n",
    "    trainingLoss[optmzr] = trainLossForOptimizer\n",
    "    print(\"\\n-----------------------------------------\\n\")\n",
    "    file.write(\"\\n-----------------------------------------\\n\")\n",
    "\n",
    "optimizersLst = ['RMSprop','Adam_scratch','Adam', 'SGD','Adadelta']\n",
    "\n",
    "for optmzr in optimizersLst:\n",
    "    trainDifOptimizer(optmzr)\n",
    "file.write(\"***********************************OVER********************************\")\n",
    "print(trainingLoss)"
   ]
  },
  {
   "cell_type": "code",
   "execution_count": 8,
   "id": "interesting-journey",
   "metadata": {},
   "outputs": [
    {
     "data": {
      "image/png": "[encoded data removed]",
      "text/plain": [
       "<Figure size 432x288 with 1 Axes>"
      ]
     },
     "metadata": {
      "needs_background": "light"
     },
     "output_type": "display_data"
    }
   ],
   "source": [
    "Xval = np.arange(1, 16,1)\n",
    "\n",
    "plt.xlabel(\"Epoch\")  # add X-axis label\n",
    "plt.ylabel(\"Training Loss\")  # add Y-axis label\n",
    "plt.title(\"CNN on CiFar10 with different optimizers\")  # add title\n",
    "for key, value in trainingLoss.items():\n",
    "    plt.plot(Xval, value, label=key)\n",
    "\n",
    "plt.legend()\n",
    "plt.show()"
   ]
  },
  {
   "cell_type": "code",
   "execution_count": null,
   "id": "negative-homework",
   "metadata": {},
   "outputs": [],
   "source": []
  }
 ],
 "metadata": {
  "kernelspec": {
   "display_name": "Python 3",
   "language": "python",
   "name": "python3"
  },
  "language_info": {
   "codemirror_mode": {
    "name": "ipython",
    "version": 3
   },
   "file_extension": ".py",
   "mimetype": "text/x-python",
   "name": "python",
   "nbconvert_exporter": "python",
   "pygments_lexer": "ipython3",
   "version": "3.8.10"
  }
 },
 "nbformat": 4,
 "nbformat_minor": 5
}
