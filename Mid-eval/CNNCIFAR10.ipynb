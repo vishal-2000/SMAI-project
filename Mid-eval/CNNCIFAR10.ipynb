{
 "cells": [
  {
   "cell_type": "markdown",
   "id": "bound-nowhere",
   "metadata": {},
   "source": [
    "<h1>CIFAR 10</h1>\n",
    "\n",
    "<h1>Importing Modules</h1>\n"
   ]
  },
  {
   "cell_type": "code",
   "execution_count": 1,
   "id": "consolidated-degree",
   "metadata": {},
   "outputs": [],
   "source": [
    "import torch\n",
    "import torchvision\n",
    "import numpy as np\n",
    "import matplotlib.pyplot as plt"
   ]
  },
  {
   "cell_type": "markdown",
   "id": "intensive-february",
   "metadata": {},
   "source": [
    "# Loading Data"
   ]
  },
  {
   "cell_type": "code",
   "execution_count": 2,
   "id": "considered-producer",
   "metadata": {
    "scrolled": true
   },
   "outputs": [
    {
     "name": "stdout",
     "output_type": "stream",
     "text": [
      "Files already downloaded and verified\n",
      "Files already downloaded and verified\n"
     ]
    }
   ],
   "source": [
    "train_batchsize = 100\n",
    "test_batchsize = 10\n",
    "resized_img_size = 32\n",
    "transform = torchvision.transforms.Compose(\n",
    "    [torchvision.transforms.Resize(size=(resized_img_size, resized_img_size)),\n",
    "     torchvision.transforms.ToTensor()])\n",
    "train_data = torchvision.datasets.CIFAR10(root='data', train=True,\n",
    "                                        download=True, transform=transform)\n",
    "test_data = torchvision.datasets.CIFAR10(root='data', train=False,\n",
    "                                       download=True, transform=transform)\n",
    "train_loader = torch.utils.data.DataLoader(train_data, batch_size=train_batchsize)\n",
    "\n",
    "test_loader = torch.utils.data.DataLoader(test_data, batch_size=test_batchsize)\n",
    "\n",
    "classes = ('plane', 'car', 'bird', 'cat',\n",
    "           'deer', 'dog', 'frog', 'horse', 'ship', 'truck')"
   ]
  },
  {
   "cell_type": "markdown",
   "id": "historical-headquarters",
   "metadata": {},
   "source": [
    "# Visualize data"
   ]
  },
  {
   "cell_type": "code",
   "execution_count": 3,
   "id": "short-moldova",
   "metadata": {},
   "outputs": [
    {
     "data": {
      "text/plain": [
       "<matplotlib.image.AxesImage at 0x7f7ff4e3d7c0>"
      ]
     },
     "execution_count": 3,
     "metadata": {},
     "output_type": "execute_result"
    },
    {
     "data": {
      "image/png": "[encoded data removed]",
      "text/plain": [
       "<Figure size 432x288 with 1 Axes>"
      ]
     },
     "metadata": {
      "needs_background": "light"
     },
     "output_type": "display_data"
    }
   ],
   "source": [
    "plt.imshow(train_data[10][0].permute(1,2,0)) "
   ]
  },
  {
   "cell_type": "markdown",
   "id": "checked-scope",
   "metadata": {},
   "source": [
    "# Model"
   ]
  },
  {
   "cell_type": "code",
   "execution_count": 4,
   "id": "twelve-inspector",
   "metadata": {},
   "outputs": [],
   "source": [
    "import torch.nn as nn\n",
    "import torch.nn.functional as F \n",
    "class Net(nn.Module):\n",
    "    def __init__(self):\n",
    "        super(Net, self).__init__()\n",
    "        self.conv1 = nn.Conv2d(3,5,(5,5),padding = \"same\")\n",
    "        self.pool1 = nn.MaxPool2d((3,3),stride=2)\n",
    "        self.conv2 = nn.Conv2d(5,7,(5,5),padding=\"same\")\n",
    "        self.pool2 = nn.MaxPool2d((3,3),stride=2)\n",
    "        self.conv3 = nn.Conv2d(7,9,(5,5),padding=\"same\")\n",
    "        self.pool3 = nn.MaxPool2d((3,3),stride=2)\n",
    "        self.linearlayer = nn.Linear(144,256)\n",
    "        self.linearlayer2 = nn.Linear(256,10)\n",
    "    def forward(self,X):\n",
    "        X = self.pool1(F.relu(self.conv1(X)))\n",
    "        X = self.pool2(F.relu(self.conv2(X)))\n",
    "        X = self.pool3(F.relu(self.conv3(X)))\n",
    "        X = X.view(-1,81) #Flatten\n",
    "        #X = F.relu(self.linearlayer(X))\n",
    "        #X = self.linearlayer2(X)\n",
    "        return X\n",
    "model = Net()\n",
    "#print(train_loader)\n",
    "#print(model([train_data[0][0]]))"
   ]
  },
  {
   "cell_type": "code",
   "execution_count": 9,
   "id": "crude-tractor",
   "metadata": {
    "scrolled": true
   },
   "outputs": [
    {
     "name": "stdout",
     "output_type": "stream",
     "text": [
      "Optimizer :  Adam \n",
      "\n",
      "Epoch: 1 \tTraining Loss: 2.309922\n",
      "Epoch: 2 \tTraining Loss: 2.248778\n",
      "Epoch: 3 \tTraining Loss: 2.215048\n",
      "Epoch: 4 \tTraining Loss: 2.192898\n",
      "Epoch: 5 \tTraining Loss: 2.158788\n",
      "Epoch: 6 \tTraining Loss: 2.138735\n",
      "Epoch: 7 \tTraining Loss: 2.125749\n",
      "Epoch: 8 \tTraining Loss: 2.111863\n",
      "Epoch: 9 \tTraining Loss: 2.104198\n",
      "Epoch: 10 \tTraining Loss: 2.102686\n",
      "Epoch: 11 \tTraining Loss: 2.098706\n",
      "Epoch: 12 \tTraining Loss: 2.096210\n",
      "Epoch: 13 \tTraining Loss: 2.090335\n",
      "Epoch: 14 \tTraining Loss: 2.087358\n",
      "Epoch: 15 \tTraining Loss: 2.087223\n",
      "\n",
      "-----------------------------------------\n",
      "\n",
      "Optimizer :  RMSprop \n",
      "\n",
      "Epoch: 1 \tTraining Loss: 2.498310\n",
      "Epoch: 2 \tTraining Loss: 2.359848\n",
      "Epoch: 3 \tTraining Loss: 2.320020\n",
      "Epoch: 4 \tTraining Loss: 2.272660\n",
      "Epoch: 5 \tTraining Loss: 2.234714\n",
      "Epoch: 6 \tTraining Loss: 2.217477\n",
      "Epoch: 7 \tTraining Loss: 2.196776\n",
      "Epoch: 8 \tTraining Loss: 2.187967\n",
      "Epoch: 9 \tTraining Loss: 2.180216\n",
      "Epoch: 10 \tTraining Loss: 2.156493\n",
      "Epoch: 11 \tTraining Loss: 2.138732\n",
      "Epoch: 12 \tTraining Loss: 2.129744\n",
      "Epoch: 13 \tTraining Loss: 2.127190\n",
      "Epoch: 14 \tTraining Loss: 2.121957\n",
      "Epoch: 15 \tTraining Loss: 2.119983\n",
      "\n",
      "-----------------------------------------\n",
      "\n",
      "Optimizer :  SGD \n",
      "\n",
      "Epoch: 1 \tTraining Loss: 2.421543\n",
      "Epoch: 2 \tTraining Loss: 2.304791\n",
      "Epoch: 3 \tTraining Loss: 2.277125\n",
      "Epoch: 4 \tTraining Loss: 2.260695\n",
      "Epoch: 5 \tTraining Loss: 2.249292\n",
      "Epoch: 6 \tTraining Loss: 2.239708\n",
      "Epoch: 7 \tTraining Loss: 2.230338\n",
      "Epoch: 8 \tTraining Loss: 2.221254\n",
      "Epoch: 9 \tTraining Loss: 2.196687\n",
      "Epoch: 10 \tTraining Loss: 2.177483\n",
      "Epoch: 11 \tTraining Loss: 2.160617\n",
      "Epoch: 12 \tTraining Loss: 2.142811\n",
      "Epoch: 13 \tTraining Loss: 2.124600\n",
      "Epoch: 14 \tTraining Loss: 2.107210\n",
      "Epoch: 15 \tTraining Loss: 2.091873\n",
      "\n",
      "-----------------------------------------\n",
      "\n",
      "Optimizer :  Adadelta \n",
      "\n",
      "Epoch: 1 \tTraining Loss: 2.992511\n",
      "Epoch: 2 \tTraining Loss: 2.377244\n",
      "Epoch: 3 \tTraining Loss: 2.353829\n",
      "Epoch: 4 \tTraining Loss: 2.338305\n",
      "Epoch: 5 \tTraining Loss: 2.326203\n",
      "Epoch: 6 \tTraining Loss: 2.315737\n",
      "Epoch: 7 \tTraining Loss: 2.307124\n",
      "Epoch: 8 \tTraining Loss: 2.300036\n",
      "Epoch: 9 \tTraining Loss: 2.294509\n",
      "Epoch: 10 \tTraining Loss: 2.289948\n",
      "Epoch: 11 \tTraining Loss: 2.285947\n",
      "Epoch: 12 \tTraining Loss: 2.282313\n",
      "Epoch: 13 \tTraining Loss: 2.278976\n",
      "Epoch: 14 \tTraining Loss: 2.275858\n",
      "Epoch: 15 \tTraining Loss: 2.272916\n",
      "\n",
      "-----------------------------------------\n",
      "\n",
      "Optimizer :  Adam_scratch \n",
      "\n",
      "Epoch: 1 \tTraining Loss: 2.293215\n",
      "Epoch: 2 \tTraining Loss: 2.196778\n",
      "Epoch: 3 \tTraining Loss: 2.147907\n",
      "Epoch: 4 \tTraining Loss: 2.128516\n",
      "Epoch: 5 \tTraining Loss: 2.116738\n",
      "Epoch: 6 \tTraining Loss: 2.109833\n",
      "Epoch: 7 \tTraining Loss: 2.104421\n",
      "Epoch: 8 \tTraining Loss: 2.091853\n",
      "Epoch: 9 \tTraining Loss: 2.077960\n",
      "Epoch: 10 \tTraining Loss: 2.067472\n",
      "Epoch: 11 \tTraining Loss: 2.060240\n",
      "Epoch: 12 \tTraining Loss: 2.055525\n",
      "Epoch: 13 \tTraining Loss: 2.049441\n",
      "Epoch: 14 \tTraining Loss: 2.044897\n",
      "Epoch: 15 \tTraining Loss: 2.041169\n",
      "\n",
      "-----------------------------------------\n",
      "\n",
      "{'Adam': [2.3099219279289245, 2.248778284072876, 2.2150482397079467, 2.1928979167938234, 2.158787590742111, 2.138734971523285, 2.1257486474514007, 2.1118628718853, 2.104197788476944, 2.1026860144138335, 2.098705580949783, 2.0962100474834444, 2.0903349401950835, 2.087358296632767, 2.087223181724548], 'RMSprop': [2.498310194015503, 2.3598476638793944, 2.3200204300880434, 2.272660349369049, 2.2347140712738036, 2.2174774293899535, 2.1967757081985475, 2.1879670732021332, 2.1802158045768736, 2.1564926385879515, 2.1387321939468382, 2.129743903160095, 2.1271900815963747, 2.1219568173885346, 2.119983100414276], 'SGD': [2.421543077468872, 2.304790903568268, 2.2771251916885378, 2.2606953682899475, 2.2492921929359437, 2.2397078461647033, 2.230337656497955, 2.22125409078598, 2.1966872487068176, 2.1774828071594237, 2.1606174845695496, 2.142811393260956, 2.124599737882614, 2.107210425376892, 2.0918734323978425], 'Adadelta': [2.9925106854438783, 2.377244244098663, 2.3538291454315186, 2.3383046684265136, 2.3262033333778382, 2.3157369709014892, 2.307123559951782, 2.30003569316864, 2.2945088543891905, 2.2899483695030214, 2.285946744918823, 2.282312763214111, 2.2789756016731264, 2.2758577156066893, 2.2729159297943116], 'Adam_scratch': [2.293214936733246, 2.196777778625488, 2.147907298088074, 2.1285158076286317, 2.1167376906871795, 2.1098330955505373, 2.1044209599494934, 2.091852896928787, 2.077960159778595, 2.0674717113971712, 2.0602402346134188, 2.055524580001831, 2.0494414587020873, 2.0448965883255004, 2.041169118642807]}\n"
     ]
    }
   ],
   "source": [
    "from ADAM import ADAM\n",
    "trainingLoss = {}\n",
    "# Fixed seed for random weight initialization (to keep the weights same for all\n",
    "# the models)\n",
    "seed = 11 \n",
    "#torch.manual_seed(3)\n",
    "\n",
    "file = open(\"./results/TrainingLossess.txt\",\"w\")\n",
    "def trainDifOptimizer(optmzr):\n",
    "    torch.manual_seed(seed)\n",
    "    model = Net()\n",
    "    criterion = nn.CrossEntropyLoss()\n",
    "    optimizer = None\n",
    "    if optmzr=='Adam_scratch':\n",
    "      optimizer = ADAM(model.parameters(), lr=0.01) # lr=0.001 -> standard\n",
    "    else:\n",
    "      optimizer = getattr(torch.optim, optmzr)(model.parameters(), lr=0.01)\n",
    "    \n",
    "    n_epochs = 15  # suggest training between 20-50 epochs\n",
    "\n",
    "    model.train()  # prep model for training\n",
    "    trainLossForOptimizer = []\n",
    "    print(\"Optimizer : \", optmzr, \"\\n\")\n",
    "    file.writelines([\"Optimizer : \", optmzr, \"\\n\"])\n",
    "    for epoch in range(n_epochs):\n",
    "        train_loss = 0.0\n",
    "\n",
    "        for data, target in train_loader:\n",
    "            # clear the gradients of all optimized variables\n",
    "            optimizer.zero_grad()\n",
    "            # forward pass: compute predicted outputs by passing inputs to the model\n",
    "            output = model(data)\n",
    "            # calculate the loss\n",
    "            loss = criterion(output, target)\n",
    "            # backward pass: compute gradient of the loss with respect to model parameters\n",
    "            loss.backward()\n",
    "            # perform a single optimization step (parameter update)\n",
    "            optimizer.step()\n",
    "            # update running training loss\n",
    "            train_loss += loss.item()*data.size(0)\n",
    "\n",
    "        # print training statistics\n",
    "        # calculate average loss over an epoch\n",
    "        train_loss = train_loss/len(train_loader.dataset)\n",
    "        trainLossForOptimizer.append(train_loss)\n",
    "        \n",
    "        print('Epoch: {} \\tTraining Loss: {:.6f}'.format(\n",
    "            epoch+1,\n",
    "            train_loss\n",
    "        ))\n",
    "        file.write('Epoch: {} \\tTraining Loss: {:.6f}'.format(\n",
    "            epoch+1,\n",
    "            train_loss\n",
    "        ))\n",
    "    torch.save(model, 'saved_models/'+optmzr+'_cnn_model')\n",
    "    trainingLoss[optmzr] = trainLossForOptimizer\n",
    "    print(\"\\n-----------------------------------------\\n\")\n",
    "    file.write(\"\\n-----------------------------------------\\n\")\n",
    "\n",
    "optimizersLst = ['Adam', 'RMSprop','SGD','Adadelta','Adam_scratch']\n",
    "\n",
    "for optmzr in optimizersLst:\n",
    "    trainDifOptimizer(optmzr)\n",
    "file.write(\"***********************************OVER********************************\")\n",
    "print(trainingLoss)"
   ]
  },
  {
   "cell_type": "code",
   "execution_count": 10,
   "id": "interesting-journey",
   "metadata": {},
   "outputs": [
    {
     "data": {
      "image/png": "[encoded data removed]",
      "text/plain": [
       "<Figure size 432x288 with 1 Axes>"
      ]
     },
     "metadata": {
      "needs_background": "light"
     },
     "output_type": "display_data"
    }
   ],
   "source": [
    "Xval = np.arange(1, 16,1)\n",
    "\n",
    "plt.xlabel(\"Epoch\")  # add X-axis label\n",
    "plt.ylabel(\"Training Loss\")  # add Y-axis label\n",
    "plt.title(\"CNN on CiFar10 with different optimizers\")  # add title\n",
    "#plt.plot(Xval,0.97*np.array(trainingLoss[\"SGD\"]),'r')\n",
    "for key, value in trainingLoss.items():\n",
    "    plt.plot(Xval, value, label=key)\n",
    "\n",
    "plt.legend()\n",
    "plt.show()"
   ]
  },
  {
   "cell_type": "code",
   "execution_count": null,
   "id": "negative-homework",
   "metadata": {},
   "outputs": [],
   "source": []
  }
 ],
 "metadata": {
  "kernelspec": {
   "display_name": "Python 3",
   "language": "python",
   "name": "python3"
  },
  "language_info": {
   "codemirror_mode": {
    "name": "ipython",
    "version": 3
   },
   "file_extension": ".py",
   "mimetype": "text/x-python",
   "name": "python",
   "nbconvert_exporter": "python",
   "pygments_lexer": "ipython3",
   "version": "3.8.10"
  }
 },
 "nbformat": 4,
 "nbformat_minor": 5
}
