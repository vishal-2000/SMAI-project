{
 "cells": [
  {
   "cell_type": "markdown",
   "id": "speaking-finder",
   "metadata": {},
   "source": [
    "<h1>CNN MNIST</h1>\n",
    "\n",
    "\n",
    "<h1>Importing required modules</h1>"
   ]
  },
  {
   "cell_type": "code",
   "execution_count": 1,
   "id": "sharing-indication",
   "metadata": {},
   "outputs": [],
   "source": [
    "import torch\n",
    "import torchvision\n",
    "import numpy as np\n",
    "import matplotlib.pyplot as plt"
   ]
  },
  {
   "cell_type": "markdown",
   "id": "attempted-outreach",
   "metadata": {},
   "source": [
    "<h1>Loading Data</h1>\n",
    "<br/>\n",
    "<p>Loading MNIST data </p>"
   ]
  },
  {
   "cell_type": "code",
   "execution_count": 17,
   "id": "married-volunteer",
   "metadata": {},
   "outputs": [],
   "source": [
    "train_batchsize = 256\n",
    "test_batchsize = 64\n",
    "resized_img_size = 32\n",
    "transform = torchvision.transforms.Compose([torchvision.transforms.Resize(size=(resized_img_size, resized_img_size)),\n",
    "                               torchvision.transforms.ToTensor()\n",
    "                             ])\n",
    "train_data = torchvision.datasets.MNIST(root='data', train=True,\n",
    "                                   download=True, transform=transform) \n",
    "test_data = torchvision.datasets.MNIST(root='data', train=False,\n",
    "                                  download=True, transform=transform)\n",
    "train_loader = torch.utils.data.DataLoader(train_data,batch_size=train_batchsize,\n",
    "                                          shuffle=True)\n",
    "test_loader = torch.utils.data.DataLoader(test_data,batch_size=test_batchsize,\n",
    "                                         shuffle=True)"
   ]
  },
  {
   "cell_type": "markdown",
   "id": "exposed-delta",
   "metadata": {},
   "source": [
    "<h1>Visualize Data</h1>"
   ]
  },
  {
   "cell_type": "code",
   "execution_count": 18,
   "id": "spiritual-anthony",
   "metadata": {},
   "outputs": [
    {
     "data": {
      "text/plain": [
       "<matplotlib.image.AxesImage at 0x7fc2598d6ac0>"
      ]
     },
     "execution_count": 18,
     "metadata": {},
     "output_type": "execute_result"
    },
    {
     "data": {
      "image/png": "[encoded data removed]",
      "text/plain": [
       "<Figure size 432x288 with 1 Axes>"
      ]
     },
     "metadata": {
      "needs_background": "light"
     },
     "output_type": "display_data"
    }
   ],
   "source": [
    "plt.imshow(train_data[100][0][0],cmap='gray')"
   ]
  },
  {
   "cell_type": "code",
   "execution_count": 19,
   "id": "bibliographic-official",
   "metadata": {},
   "outputs": [],
   "source": [
    "import torch.nn as nn\n",
    "import torch.nn.functional as F \n",
    "class Net(nn.Module):\n",
    "    def __init__(self):\n",
    "        super(Net, self).__init__()\n",
    "        self.conv1 = nn.Conv2d(1,3,(5,5),padding = \"same\")\n",
    "        self.pool1 = nn.MaxPool2d((3,3),stride=2)\n",
    "        self.conv2 = nn.Conv2d(3,7,(5,5),padding=\"same\")\n",
    "        self.pool2 = nn.MaxPool2d((3,3),stride=2)\n",
    "        self.conv3 = nn.Conv2d(7,9,(5,5),padding=\"same\")\n",
    "        self.pool3 = nn.MaxPool2d((3,3),stride=2)\n",
    "        self.linearlayer = nn.Linear(144,256)\n",
    "        self.linearlayer2 = nn.Linear(256,10)\n",
    "    def forward(self,X):\n",
    "        X = self.pool1(F.relu(self.conv1(X)))\n",
    "        X = self.pool2(F.relu(self.conv2(X)))\n",
    "        X = self.pool3(F.relu(self.conv3(X)))\n",
    "        X = X.view(-1,81) #Flatten\n",
    "        #X = F.relu(self.linearlayer(X))\n",
    "        #X = self.linearlayer2(X)\n",
    "        return X\n",
    "model = Net()\n",
    "#print(train_loader)\n",
    "#print(model([train_data[0][0]]))"
   ]
  },
  {
   "cell_type": "markdown",
   "id": "higher-scotland",
   "metadata": {},
   "source": [
    "<h1>CNN model</h1>"
   ]
  },
  {
   "cell_type": "code",
   "execution_count": 20,
   "id": "vulnerable-calcium",
   "metadata": {},
   "outputs": [
    {
     "name": "stdout",
     "output_type": "stream",
     "text": [
      "Optimizer :  Adam \n",
      "\n",
      "Epoch: 1 \tTraining Loss: 1.993826\n",
      "Epoch: 2 \tTraining Loss: 1.304850\n",
      "Epoch: 3 \tTraining Loss: 1.181985\n",
      "Epoch: 4 \tTraining Loss: 1.105595\n",
      "Epoch: 5 \tTraining Loss: 1.036937\n",
      "Epoch: 6 \tTraining Loss: 1.008230\n",
      "Epoch: 7 \tTraining Loss: 0.985504\n",
      "Epoch: 8 \tTraining Loss: 0.962163\n",
      "Epoch: 9 \tTraining Loss: 0.953557\n",
      "Epoch: 10 \tTraining Loss: 0.938812\n",
      "Epoch: 11 \tTraining Loss: 0.926842\n",
      "Epoch: 12 \tTraining Loss: 0.927297\n",
      "Epoch: 13 \tTraining Loss: 0.907694\n",
      "Epoch: 14 \tTraining Loss: 0.908596\n",
      "Epoch: 15 \tTraining Loss: 0.894461\n",
      "\n",
      "-----------------------------------------\n",
      "\n",
      "Optimizer :  RMSprop \n",
      "\n",
      "Epoch: 1 \tTraining Loss: 2.226989\n",
      "Epoch: 2 \tTraining Loss: 1.741132\n",
      "Epoch: 3 \tTraining Loss: 1.641440\n",
      "Epoch: 4 \tTraining Loss: 1.587898\n",
      "Epoch: 5 \tTraining Loss: 1.551992\n",
      "Epoch: 6 \tTraining Loss: 1.519631\n",
      "Epoch: 7 \tTraining Loss: 1.491073\n",
      "Epoch: 8 \tTraining Loss: 1.460521\n",
      "Epoch: 9 \tTraining Loss: 1.448956\n",
      "Epoch: 10 \tTraining Loss: 1.438098\n",
      "Epoch: 11 \tTraining Loss: 1.424818\n",
      "Epoch: 12 \tTraining Loss: 1.420907\n",
      "Epoch: 13 \tTraining Loss: 1.413265\n",
      "Epoch: 14 \tTraining Loss: 1.406243\n",
      "Epoch: 15 \tTraining Loss: 1.403284\n",
      "\n",
      "-----------------------------------------\n",
      "\n",
      "Optimizer :  SGD \n",
      "\n",
      "Epoch: 1 \tTraining Loss: 2.825060\n",
      "Epoch: 2 \tTraining Loss: 2.485173\n",
      "Epoch: 3 \tTraining Loss: 2.243648\n",
      "Epoch: 4 \tTraining Loss: 2.064395\n",
      "Epoch: 5 \tTraining Loss: 1.933864\n",
      "Epoch: 6 \tTraining Loss: 1.842358\n",
      "Epoch: 7 \tTraining Loss: 1.787283\n",
      "Epoch: 8 \tTraining Loss: 1.740927\n",
      "Epoch: 9 \tTraining Loss: 1.707393\n",
      "Epoch: 10 \tTraining Loss: 1.677203\n",
      "Epoch: 11 \tTraining Loss: 1.398777\n",
      "Epoch: 12 \tTraining Loss: 1.143569\n",
      "Epoch: 13 \tTraining Loss: 1.046011\n",
      "Epoch: 14 \tTraining Loss: 0.986780\n",
      "Epoch: 15 \tTraining Loss: 0.930893\n",
      "\n",
      "-----------------------------------------\n",
      "\n",
      "Optimizer :  Adadelta \n",
      "\n",
      "Epoch: 1 \tTraining Loss: 4.001870\n",
      "Epoch: 2 \tTraining Loss: 2.769197\n",
      "Epoch: 3 \tTraining Loss: 2.710272\n",
      "Epoch: 4 \tTraining Loss: 2.670048\n",
      "Epoch: 5 \tTraining Loss: 2.635135\n",
      "Epoch: 6 \tTraining Loss: 2.603571\n",
      "Epoch: 7 \tTraining Loss: 2.493524\n",
      "Epoch: 8 \tTraining Loss: 2.234223\n",
      "Epoch: 9 \tTraining Loss: 2.139577\n",
      "Epoch: 10 \tTraining Loss: 2.077479\n",
      "Epoch: 11 \tTraining Loss: 2.030576\n",
      "Epoch: 12 \tTraining Loss: 1.991069\n",
      "Epoch: 13 \tTraining Loss: 1.955146\n",
      "Epoch: 14 \tTraining Loss: 1.920715\n",
      "Epoch: 15 \tTraining Loss: 1.886756\n",
      "\n",
      "-----------------------------------------\n",
      "\n",
      "Optimizer :  Adam_scratch \n",
      "\n",
      "Epoch: 1 \tTraining Loss: 2.129391\n",
      "Epoch: 2 \tTraining Loss: 1.564656\n",
      "Epoch: 3 \tTraining Loss: 1.459256\n",
      "Epoch: 4 \tTraining Loss: 1.419334\n",
      "Epoch: 5 \tTraining Loss: 1.388011\n",
      "Epoch: 6 \tTraining Loss: 1.361014\n",
      "Epoch: 7 \tTraining Loss: 1.343303\n",
      "Epoch: 8 \tTraining Loss: 1.326968\n",
      "Epoch: 9 \tTraining Loss: 1.319333\n",
      "Epoch: 10 \tTraining Loss: 1.306456\n",
      "Epoch: 11 \tTraining Loss: 1.299722\n",
      "Epoch: 12 \tTraining Loss: 1.293541\n",
      "Epoch: 13 \tTraining Loss: 1.287421\n",
      "Epoch: 14 \tTraining Loss: 1.282289\n",
      "Epoch: 15 \tTraining Loss: 1.277093\n",
      "\n",
      "-----------------------------------------\n",
      "\n",
      "{'Adam': [1.9938259845097859, 1.304850440343221, 1.1819853694915772, 1.1055946435928345, 1.0369367853482565, 1.0082296516100566, 0.9855040768623352, 0.9621631861686707, 0.9535571797370911, 0.9388124787648519, 0.9268418116251628, 0.9272973799069723, 0.9076938961346944, 0.9085960209210714, 0.894460534922282], 'RMSprop': [2.22698881632487, 1.7411317213058473, 1.6414403359095255, 1.587897683461507, 1.5519921988805134, 1.5196309396743775, 1.4910730688095093, 1.4605207344055176, 1.4489556771914165, 1.4380975867589314, 1.4248182579040527, 1.420907063102722, 1.4132654843648276, 1.406242997678121, 1.4032843456904094], 'SGD': [2.825059874979655, 2.485172643915812, 2.2436482465108236, 2.0643952215830486, 1.9338638357162476, 1.8423583432515462, 1.787283243560791, 1.7409267008463543, 1.7073929646809896, 1.677203392982483, 1.3987771694819133, 1.1435690337498983, 1.046010652478536, 0.9867796923319498, 0.9308925776163737], 'Adadelta': [4.001869629796346, 2.76919654490153, 2.7102716495513914, 2.6700483216603597, 2.6351346378326417, 2.6035712340037027, 2.4935236844380695, 2.2342230086008708, 2.139577372423808, 2.077479447046916, 2.0305763235727947, 1.9910687053044638, 1.955146174367269, 1.9207152201970419, 1.8867562135696412], 'Adam_scratch': [2.1293914613723754, 1.5646556992212932, 1.4592559750239054, 1.4193340425491332, 1.3880109270095826, 1.361013988049825, 1.3433031124750774, 1.326967932955424, 1.3193333798726399, 1.3064560904820761, 1.29972188650767, 1.2935408226648966, 1.2874211533228557, 1.2822891019821168, 1.2770929779052735]}\n"
     ]
    }
   ],
   "source": [
    "from ADAM import ADAM\n",
    "trainingLoss = {}\n",
    "# Fixed seed for random weight initialization (to keep the weights same for all\n",
    "# the models)\n",
    "seed = 11 \n",
    "#torch.manual_seed(3)\n",
    "def trainDifOptimizer(optmzr):\n",
    "    torch.manual_seed(seed)\n",
    "    model = Net()\n",
    "    criterion = nn.CrossEntropyLoss()\n",
    "    optimizer = None\n",
    "    if optmzr=='Adam_scratch':\n",
    "      optimizer = ADAM(model.parameters(), lr=0.01) # lr=0.001 -> standard\n",
    "    else:\n",
    "      optimizer = getattr(torch.optim, optmzr)(model.parameters(), lr=0.01)\n",
    "    \n",
    "    n_epochs = 15  # suggest training between 20-50 epochs\n",
    "\n",
    "    model.train()  # prep model for training\n",
    "    trainLossForOptimizer = []\n",
    "    print(\"Optimizer : \", optmzr, \"\\n\")\n",
    "    for epoch in range(n_epochs):\n",
    "        train_loss = 0.0\n",
    "\n",
    "        for data, target in train_loader:\n",
    "            # clear the gradients of all optimized variables\n",
    "            optimizer.zero_grad()\n",
    "            # forward pass: compute predicted outputs by passing inputs to the model\n",
    "            output = model(data)\n",
    "            # calculate the loss\n",
    "            loss = criterion(output, target)\n",
    "            # backward pass: compute gradient of the loss with respect to model parameters\n",
    "            loss.backward()\n",
    "            # perform a single optimization step (parameter update)\n",
    "            optimizer.step()\n",
    "            # update running training loss\n",
    "            train_loss += loss.item()*data.size(0)\n",
    "\n",
    "        # print training statistics\n",
    "        # calculate average loss over an epoch\n",
    "        train_loss = train_loss/len(train_loader.dataset)\n",
    "        trainLossForOptimizer.append(train_loss)\n",
    "        \n",
    "        print('Epoch: {} \\tTraining Loss: {:.6f}'.format(\n",
    "            epoch+1,\n",
    "            train_loss\n",
    "        ))\n",
    "    torch.save(model, 'saved_models/'+optmzr+'_cnn_model')\n",
    "    trainingLoss[optmzr] = trainLossForOptimizer\n",
    "    print(\"\\n-----------------------------------------\\n\")\n",
    "\n",
    "optimizersLst = ['Adam', 'RMSprop','SGD','Adadelta','Adam_scratch']\n",
    "\n",
    "for optmzr in optimizersLst:\n",
    "    trainDifOptimizer(optmzr)\n",
    "print(trainingLoss)"
   ]
  },
  {
   "cell_type": "code",
   "execution_count": 22,
   "id": "sixth-newark",
   "metadata": {},
   "outputs": [
    {
     "data": {
      "image/png": "[encoded data removed]",
      "text/plain": [
       "<Figure size 432x288 with 1 Axes>"
      ]
     },
     "metadata": {
      "needs_background": "light"
     },
     "output_type": "display_data"
    }
   ],
   "source": [
    "import numpy as np\n",
    "import matplotlib.pyplot as plt\n",
    "Xval = np.arange(1, 16,1)\n",
    "\n",
    "plt.xlabel(\"Epoch\")  # add X-axis label\n",
    "plt.ylabel(\"Training Loss\")  # add Y-axis label\n",
    "plt.title(\"CNN on MNIST with different optimizers\")  # add title\n",
    "for key, value in trainingLoss.items():\n",
    "    plt.plot(Xval, value, label=key)\n",
    "\n",
    "plt.legend()\n",
    "plt.show()"
   ]
  },
  {
   "cell_type": "code",
   "execution_count": null,
   "id": "concerned-accused",
   "metadata": {},
   "outputs": [],
   "source": []
  }
 ],
 "metadata": {
  "kernelspec": {
   "display_name": "Python 3",
   "language": "python",
   "name": "python3"
  },
  "language_info": {
   "codemirror_mode": {
    "name": "ipython",
    "version": 3
   },
   "file_extension": ".py",
   "mimetype": "text/x-python",
   "name": "python",
   "nbconvert_exporter": "python",
   "pygments_lexer": "ipython3",
   "version": "3.8.10"
  }
 },
 "nbformat": 4,
 "nbformat_minor": 5
}
