{
 "cells": [
  {
   "cell_type": "markdown",
   "id": "speaking-finder",
   "metadata": {},
   "source": [
    "<h1>CNN MNIST</h1>\n",
    "\n",
    "\n",
    "<h1>Importing required modules</h1>"
   ]
  },
  {
   "cell_type": "code",
   "execution_count": 10,
   "id": "sharing-indication",
   "metadata": {},
   "outputs": [],
   "source": [
    "import torch\n",
    "import torchvision\n",
    "import numpy as np\n",
    "import matplotlib.pyplot as plt"
   ]
  },
  {
   "cell_type": "markdown",
   "id": "attempted-outreach",
   "metadata": {},
   "source": [
    "<h1>Loading Data</h1>\n",
    "<br/>\n",
    "<p>Loading MNIST data </p>"
   ]
  },
  {
   "cell_type": "code",
   "execution_count": 12,
   "id": "married-volunteer",
   "metadata": {},
   "outputs": [],
   "source": [
    "train_batchsize = 20\n",
    "test_batchsize = 100\n",
    "resized_img_size = 10 \n",
    "transform = torchvision.transforms.Compose([torchvision.transforms.Resize(size=(resized_img_size, resized_img_size)),\n",
    "                               torchvision.transforms.ToTensor()\n",
    "                             ])\n",
    "train_data = torchvision.datasets.MNIST(root='data', train=True,\n",
    "                                   download=True, transform=transform) \n",
    "test_data = torchvision.datasets.MNIST(root='data', train=False,\n",
    "                                  download=True, transform=transform)\n",
    "train_loader = torch.utils.data.DataLoader(train_data,batch_size=train_batchsize,\n",
    "                                          shuffle=True)\n",
    "test_loader = torch.utils.data.DataLoader(test_data,batch_size=test_batchsize,\n",
    "                                         shuffle=True)"
   ]
  },
  {
   "cell_type": "markdown",
   "id": "exposed-delta",
   "metadata": {},
   "source": [
    "<h1>Visualize Data</h1>"
   ]
  },
  {
   "cell_type": "code",
   "execution_count": 13,
   "id": "spiritual-anthony",
   "metadata": {},
   "outputs": [
    {
     "data": {
      "text/plain": [
       "<matplotlib.image.AxesImage at 0x7fd160e0c100>"
      ]
     },
     "execution_count": 13,
     "metadata": {},
     "output_type": "execute_result"
    },
    {
     "data": {
      "image/png": "[encoded data removed]",
      "text/plain": [
       "<Figure size 432x288 with 1 Axes>"
      ]
     },
     "metadata": {
      "needs_background": "light"
     },
     "output_type": "display_data"
    }
   ],
   "source": [
    "plt.imshow(train_data[100][0][0],cmap='gray')"
   ]
  },
  {
   "cell_type": "markdown",
   "id": "higher-scotland",
   "metadata": {},
   "source": [
    "<h1>CNN model</h1>"
   ]
  },
  {
   "cell_type": "code",
   "execution_count": 2,
   "id": "vulnerable-calcium",
   "metadata": {},
   "outputs": [],
   "source": [
    "import torch.nn as nn\n",
    "import torch.nn.functional as F \n",
    "class Net(nn.Module):\n",
    "    def __init__(self):\n",
    "        super(Net, self).__init__()\n",
    "        #self.conv1 = 5*5 \n",
    "        #self.pool1 = 3*3 stride 2\n",
    "        #self.conv2 = 5*5\n",
    "        #self.pool2 = 3*3 stride 2\n",
    "        #self.conv3 = 5*5\n",
    "        #self.pool3 = 3*3 stride 2\n",
    "        #self.l1 = X,1000\n",
    "        #self.l2 = 1000,10\n",
    "    def forward(self,x):\n",
    "        return x"
   ]
  },
  {
   "cell_type": "code",
   "execution_count": null,
   "id": "sixth-newark",
   "metadata": {},
   "outputs": [],
   "source": []
  }
 ],
 "metadata": {
  "kernelspec": {
   "display_name": "Python 3",
   "language": "python",
   "name": "python3"
  },
  "language_info": {
   "codemirror_mode": {
    "name": "ipython",
    "version": 3
   },
   "file_extension": ".py",
   "mimetype": "text/x-python",
   "name": "python",
   "nbconvert_exporter": "python",
   "pygments_lexer": "ipython3",
   "version": "3.8.10"
  }
 },
 "nbformat": 4,
 "nbformat_minor": 5
}
