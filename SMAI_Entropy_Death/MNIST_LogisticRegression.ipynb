{
 "cells": [
  {
   "cell_type": "markdown",
   "id": "developmental-vietnam",
   "metadata": {},
   "source": [
    "## Importing Libraries"
   ]
  },
  {
   "cell_type": "code",
   "execution_count": 4,
   "id": "lucky-packing",
   "metadata": {},
   "outputs": [],
   "source": [
    "# import libraries\n",
    "import torch\n",
    "import torchvision\n",
    "import numpy as np\n",
    "import matplotlib.pyplot as plt"
   ]
  },
  {
   "cell_type": "markdown",
   "id": "hybrid-thong",
   "metadata": {},
   "source": [
    "# Loading and Visualizing Data"
   ]
  },
  {
   "cell_type": "code",
   "execution_count": 18,
   "id": "noticed-spencer",
   "metadata": {},
   "outputs": [],
   "source": [
    "train_batchsize = 100\n",
    "test_batchsize = 100\n",
    "resized_img_size = 28\n",
    "transform = torchvision.transforms.Compose([torchvision.transforms.Resize(size=(resized_img_size, resized_img_size)),\n",
    "                               torchvision.transforms.ToTensor()\n",
    "                             ])\n",
    "train_data = torchvision.datasets.MNIST(root='data', train=True,\n",
    "                                   download=True, transform=transform) \n",
    "test_data = torchvision.datasets.MNIST(root='data', train=False,\n",
    "                                  download=True, transform=transform)\n",
    "train_loader = torch.utils.data.DataLoader(train_data,batch_size=train_batchsize,\n",
    "                                          shuffle=True)\n",
    "test_loader = torch.utils.data.DataLoader(test_data,batch_size=test_batchsize,\n",
    "                                         shuffle=True)"
   ]
  },
  {
   "cell_type": "code",
   "execution_count": 19,
   "id": "metric-brighton",
   "metadata": {},
   "outputs": [
    {
     "data": {
      "text/plain": [
       "<matplotlib.image.AxesImage at 0x7fcaa68765e0>"
      ]
     },
     "execution_count": 19,
     "metadata": {},
     "output_type": "execute_result"
    },
    {
     "data": {
      "image/png": "[encoded data removed]",
      "text/plain": [
       "<Figure size 432x288 with 1 Axes>"
      ]
     },
     "metadata": {
      "needs_background": "light"
     },
     "output_type": "display_data"
    }
   ],
   "source": [
    "plt.imshow(train_data[10][0][0],cmap='gray')"
   ]
  },
  {
   "cell_type": "markdown",
   "id": "editorial-bicycle",
   "metadata": {},
   "source": [
    "# Model\n",
    "In case of binary classification we can use sigmoid however in other cases we use Softmax to classify we don't need to mention it as it's internally calculated in forward step."
   ]
  },
  {
   "cell_type": "code",
   "execution_count": 22,
   "id": "engaged-sierra",
   "metadata": {},
   "outputs": [],
   "source": [
    "import torch.nn as nn\n",
    "import torch.nn.functional as F \n",
    "class LogisticRegression(nn.Module):\n",
    "    def __init__(self):\n",
    "        super(LogisticRegression,self).__init__()\n",
    "        self.layer = nn.Linear(28*28,10)\n",
    "    def forward(self,X):\n",
    "        X = X.view(-1,784)\n",
    "        # Softmax is internally calculated in forward operation so we need not specify anything here.\n",
    "        return self.layer(X)"
   ]
  },
  {
   "cell_type": "markdown",
   "id": "rotary-influence",
   "metadata": {},
   "source": [
    "# Training With different Optimizers"
   ]
  },
  {
   "cell_type": "code",
   "execution_count": 23,
   "id": "worth-leave",
   "metadata": {},
   "outputs": [
    {
     "name": "stdout",
     "output_type": "stream",
     "text": [
      "Optimizer :  Adam \n",
      "\n",
      "Epoch: 1 \tTraining Loss: 0.357643\n",
      "Epoch: 2 \tTraining Loss: 0.295494\n",
      "Epoch: 3 \tTraining Loss: 0.288338\n",
      "Epoch: 4 \tTraining Loss: 0.281534\n",
      "Epoch: 5 \tTraining Loss: 0.279618\n",
      "Epoch: 6 \tTraining Loss: 0.279377\n",
      "Epoch: 7 \tTraining Loss: 0.277775\n",
      "Epoch: 8 \tTraining Loss: 0.272130\n",
      "Epoch: 9 \tTraining Loss: 0.271093\n",
      "Epoch: 10 \tTraining Loss: 0.271797\n",
      "Epoch: 11 \tTraining Loss: 0.270385\n",
      "Epoch: 12 \tTraining Loss: 0.267989\n",
      "Epoch: 13 \tTraining Loss: 0.266686\n",
      "Epoch: 14 \tTraining Loss: 0.267186\n",
      "Epoch: 15 \tTraining Loss: 0.267923\n",
      "\n",
      "-----------------------------------------\n",
      "\n",
      "Optimizer :  RMSprop \n",
      "\n",
      "Epoch: 1 \tTraining Loss: 0.373928\n",
      "Epoch: 2 \tTraining Loss: 0.309281\n",
      "Epoch: 3 \tTraining Loss: 0.300725\n",
      "Epoch: 4 \tTraining Loss: 0.294331\n",
      "Epoch: 5 \tTraining Loss: 0.290620\n",
      "Epoch: 6 \tTraining Loss: 0.288367\n",
      "Epoch: 7 \tTraining Loss: 0.286667\n",
      "Epoch: 8 \tTraining Loss: 0.285883\n",
      "Epoch: 9 \tTraining Loss: 0.284490\n",
      "Epoch: 10 \tTraining Loss: 0.282227\n",
      "Epoch: 11 \tTraining Loss: 0.284973\n",
      "Epoch: 12 \tTraining Loss: 0.279149\n",
      "Epoch: 13 \tTraining Loss: 0.280548\n",
      "Epoch: 14 \tTraining Loss: 0.278951\n",
      "Epoch: 15 \tTraining Loss: 0.277602\n",
      "\n",
      "-----------------------------------------\n",
      "\n",
      "Optimizer :  SGD \n",
      "\n",
      "Epoch: 1 \tTraining Loss: 1.149030\n",
      "Epoch: 2 \tTraining Loss: 0.642335\n",
      "Epoch: 3 \tTraining Loss: 0.535681\n",
      "Epoch: 4 \tTraining Loss: 0.484489\n",
      "Epoch: 5 \tTraining Loss: 0.453040\n",
      "Epoch: 6 \tTraining Loss: 0.431278\n",
      "Epoch: 7 \tTraining Loss: 0.415157\n",
      "Epoch: 8 \tTraining Loss: 0.402491\n",
      "Epoch: 9 \tTraining Loss: 0.392244\n",
      "Epoch: 10 \tTraining Loss: 0.383770\n",
      "Epoch: 11 \tTraining Loss: 0.376476\n",
      "Epoch: 12 \tTraining Loss: 0.370240\n",
      "Epoch: 13 \tTraining Loss: 0.364758\n",
      "Epoch: 14 \tTraining Loss: 0.359933\n",
      "Epoch: 15 \tTraining Loss: 0.355540\n",
      "\n",
      "-----------------------------------------\n",
      "\n",
      "Optimizer :  Adadelta \n",
      "\n",
      "Epoch: 1 \tTraining Loss: 1.954934\n",
      "Epoch: 2 \tTraining Loss: 1.395050\n",
      "Epoch: 3 \tTraining Loss: 1.064808\n",
      "Epoch: 4 \tTraining Loss: 0.874583\n",
      "Epoch: 5 \tTraining Loss: 0.756941\n",
      "Epoch: 6 \tTraining Loss: 0.679132\n",
      "Epoch: 7 \tTraining Loss: 0.624174\n",
      "Epoch: 8 \tTraining Loss: 0.583004\n",
      "Epoch: 9 \tTraining Loss: 0.551239\n",
      "Epoch: 10 \tTraining Loss: 0.526123\n",
      "Epoch: 11 \tTraining Loss: 0.505594\n",
      "Epoch: 12 \tTraining Loss: 0.488560\n",
      "Epoch: 13 \tTraining Loss: 0.474101\n",
      "Epoch: 14 \tTraining Loss: 0.461765\n",
      "Epoch: 15 \tTraining Loss: 0.451000\n",
      "\n",
      "-----------------------------------------\n",
      "\n",
      "Optimizer :  Adam_scratch \n",
      "\n",
      "Epoch: 1 \tTraining Loss: 0.616344\n",
      "Epoch: 2 \tTraining Loss: 0.343773\n",
      "Epoch: 3 \tTraining Loss: 0.307813\n",
      "Epoch: 4 \tTraining Loss: 0.291259\n",
      "Epoch: 5 \tTraining Loss: 0.281370\n",
      "Epoch: 6 \tTraining Loss: 0.274101\n",
      "Epoch: 7 \tTraining Loss: 0.269194\n",
      "Epoch: 8 \tTraining Loss: 0.264968\n",
      "Epoch: 9 \tTraining Loss: 0.261537\n",
      "Epoch: 10 \tTraining Loss: 0.258872\n",
      "Epoch: 11 \tTraining Loss: 0.256544\n",
      "Epoch: 12 \tTraining Loss: 0.254192\n",
      "Epoch: 13 \tTraining Loss: 0.252412\n",
      "Epoch: 14 \tTraining Loss: 0.251132\n",
      "Epoch: 15 \tTraining Loss: 0.249669\n",
      "\n",
      "-----------------------------------------\n",
      "\n",
      "{'Adam': [0.35764297388494015, 0.29549374874681233, 0.2883380454778671, 0.2815340749422709, 0.27961819847424824, 0.27937741222480933, 0.27777519984791676, 0.2721300736690561, 0.27109324391931294, 0.2717974660669764, 0.2703853431964914, 0.267988604195416, 0.2666856276119749, 0.2671861886357268, 0.26792251826574404], 'RMSprop': [0.3739279916137457, 0.3092813704783718, 0.3007253770778577, 0.29433105091253914, 0.29062006222705045, 0.28836724881082776, 0.2866672973583142, 0.28588323161005974, 0.28449031742910547, 0.2822273519138495, 0.28497341776887575, 0.2791492388397455, 0.280548141784966, 0.2789505761365096, 0.27760194438199204], 'SGD': [1.149029651681582, 0.6423351913690567, 0.5356807637214661, 0.48448887715737027, 0.4530398492515087, 0.4312781122326851, 0.4151569170753161, 0.40249059182902175, 0.3922435495009025, 0.38377025119960306, 0.3764764070510864, 0.37023977627356847, 0.36475812656184037, 0.3599331599722306, 0.3555402481555939], 'Adadelta': [1.9549342374006906, 1.3950502091646195, 1.0648080375790596, 0.8745827998717626, 0.7569408861796061, 0.6791323281327883, 0.6241739407678445, 0.5830043323834737, 0.5512387498219808, 0.5261233173310756, 0.5055941830078761, 0.48855958635608354, 0.47410111357768375, 0.46176469430327416, 0.45100033168991405], 'Adam_scratch': [0.616344414750735, 0.3437727859864632, 0.3078127850716313, 0.29125902252892655, 0.28137011537949247, 0.2741013854990403, 0.26919354365517695, 0.2649676209191481, 0.26153662165006003, 0.25887151112159096, 0.2565436658635736, 0.25419246693452197, 0.25241237223148344, 0.2511322656025489, 0.2496693316102028]}\n"
     ]
    }
   ],
   "source": [
    "from ADAM import ADAM\n",
    "trainingLoss = {}\n",
    "# Fixed seed for random weight initialization (to keep the weights same for all\n",
    "# the models)\n",
    "seed = 11 \n",
    "#torch.manual_seed(3)\n",
    "def trainDifOptimizer(optmzr):\n",
    "    torch.manual_seed(seed)\n",
    "    model = LogisticRegression()\n",
    "    criterion = nn.CrossEntropyLoss()\n",
    "    optimizer = None\n",
    "    if optmzr=='Adam_scratch':\n",
    "      optimizer = ADAM(model.parameters(), lr=0.01) # lr=0.001 -> standard\n",
    "    else:\n",
    "      optimizer = getattr(torch.optim, optmzr)(model.parameters(), lr=0.01)\n",
    "    \n",
    "    n_epochs = 15  # suggest training between 20-50 epochs\n",
    "\n",
    "    model.train()  # prep model for training\n",
    "    trainLossForOptimizer = []\n",
    "    print(\"Optimizer : \", optmzr, \"\\n\")\n",
    "    for epoch in range(n_epochs):\n",
    "        train_loss = 0.0\n",
    "\n",
    "        for data, target in train_loader:\n",
    "            # clear the gradients of all optimized variables\n",
    "            optimizer.zero_grad()\n",
    "            # forward pass: compute predicted outputs by passing inputs to the model\n",
    "            output = model(data)\n",
    "            # calculate the loss\n",
    "            loss = criterion(output, target)\n",
    "            # backward pass: compute gradient of the loss with respect to model parameters\n",
    "            loss.backward()\n",
    "            # perform a single optimization step (parameter update)\n",
    "            optimizer.step()\n",
    "            # update running training loss\n",
    "            train_loss += loss.item()*data.size(0)\n",
    "\n",
    "        # print training statistics\n",
    "        # calculate average loss over an epoch\n",
    "        train_loss = train_loss/len(train_loader.dataset)\n",
    "        trainLossForOptimizer.append(train_loss)\n",
    "        \n",
    "        print('Epoch: {} \\tTraining Loss: {:.6f}'.format(\n",
    "            epoch+1,\n",
    "            train_loss\n",
    "        ))\n",
    "    torch.save(model, 'saved_models/'+optmzr+'_LogisticRegression_model')\n",
    "    trainingLoss[optmzr] = trainLossForOptimizer\n",
    "    print(\"\\n-----------------------------------------\\n\")\n",
    "\n",
    "optimizersLst = ['Adam', 'RMSprop','SGD','Adadelta','Adam_scratch']\n",
    "\n",
    "for optmzr in optimizersLst:\n",
    "    trainDifOptimizer(optmzr)\n",
    "print(trainingLoss)"
   ]
  },
  {
   "cell_type": "markdown",
   "id": "worth-dairy",
   "metadata": {},
   "source": [
    "# Graph"
   ]
  },
  {
   "cell_type": "code",
   "execution_count": 25,
   "id": "spectacular-wireless",
   "metadata": {},
   "outputs": [
    {
     "data": {
      "image/png": "[encoded data removed]",
      "text/plain": [
       "<Figure size 432x288 with 1 Axes>"
      ]
     },
     "metadata": {
      "needs_background": "light"
     },
     "output_type": "display_data"
    }
   ],
   "source": [
    "import numpy as np\n",
    "import matplotlib.pyplot as plt\n",
    "Xval = np.arange(1, 16,1)\n",
    "\n",
    "plt.xlabel(\"Epoch\")  # add X-axis label\n",
    "plt.ylabel(\"Training Loss\")  # add Y-axis label\n",
    "plt.title(\"Logistic Regression on MNIST with different optimizers\")  # add title\n",
    "for key, value in trainingLoss.items():\n",
    "    plt.plot(Xval, value, label=key)\n",
    "\n",
    "plt.legend()\n",
    "plt.show()"
   ]
  },
  {
   "cell_type": "code",
   "execution_count": null,
   "id": "resident-developer",
   "metadata": {},
   "outputs": [],
   "source": []
  }
 ],
 "metadata": {
  "kernelspec": {
   "display_name": "Python 3",
   "language": "python",
   "name": "python3"
  },
  "language_info": {
   "codemirror_mode": {
    "name": "ipython",
    "version": 3
   },
   "file_extension": ".py",
   "mimetype": "text/x-python",
   "name": "python",
   "nbconvert_exporter": "python",
   "pygments_lexer": "ipython3",
   "version": "3.8.10"
  }
 },
 "nbformat": 4,
 "nbformat_minor": 5
}
