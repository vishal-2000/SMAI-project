{
  "nbformat": 4,
  "nbformat_minor": 0,
  "metadata": {
    "colab": {
      "name": "imdb_sentiment_final.ipynb",
      "provenance": [],
      "collapsed_sections": []
    },
    "kernelspec": {
      "name": "python3",
      "display_name": "Python 3"
    },
    "language_info": {
      "name": "python"
    }
  },
  "cells": [
    {
      "cell_type": "markdown",
      "metadata": {
        "id": "y-QHS9TrcgQx"
      },
      "source": [
        "### Load Data"
      ]
    },
    {
      "cell_type": "code",
      "metadata": {
        "id": "3i5y-o45MPVu"
      },
      "source": [
        "from keras.datasets import imdb\n",
        "\n",
        "# Load the data, keeping only 10,000 of the most frequently occuring words\n",
        "(train_data, train_labels), (test_data, test_labels) = imdb.load_data(num_words = 10000)"
      ],
      "execution_count": 1,
      "outputs": []
    },
    {
      "cell_type": "code",
      "metadata": {
        "colab": {
          "base_uri": "https://localhost:8080/"
        },
        "id": "p4fodXOhM4ZR",
        "outputId": "b93bc6fc-520b-4cc1-c1e9-00299cac162d"
      },
      "source": [
        "max([max(sequence) for sequence in train_data])"
      ],
      "execution_count": 2,
      "outputs": [
        {
          "output_type": "execute_result",
          "data": {
            "text/plain": [
              "9999"
            ]
          },
          "metadata": {},
          "execution_count": 2
        }
      ]
    },
    {
      "cell_type": "markdown",
      "metadata": {
        "id": "lwfHYX-3coNd"
      },
      "source": [
        "### Check a review"
      ]
    },
    {
      "cell_type": "code",
      "metadata": {
        "colab": {
          "base_uri": "https://localhost:8080/",
          "height": 103
        },
        "id": "Uvh4Gu8lNB2h",
        "outputId": "2ea410ea-b0c8-4ecc-d84d-da202c0c79ca"
      },
      "source": [
        "# Convert numbered review to actual review\n",
        "\n",
        "word_index = imdb.get_word_index()\n",
        "reverse_word_index = dict([(value, key) for (key, value) in word_index.items()])\n",
        "decoded_review = ' '.join([reverse_word_index.get(i-3, '?') for i in train_data[0]])\n",
        "\n",
        "decoded_review"
      ],
      "execution_count": 3,
      "outputs": [
        {
          "output_type": "execute_result",
          "data": {
            "application/vnd.google.colaboratory.intrinsic+json": {
              "type": "string"
            },
            "text/plain": [
              "\"? this film was just brilliant casting location scenery story direction everyone's really suited the part they played and you could just imagine being there robert ? is an amazing actor and now the same being director ? father came from the same scottish island as myself so i loved the fact there was a real connection with this film the witty remarks throughout the film were great it was just brilliant so much that i bought the film as soon as it was released for ? and would recommend it to everyone to watch and the fly fishing was amazing really cried at the end it was so sad and you know what they say if you cry at a film it must have been good and this definitely was also ? to the two little boy's that played the ? of norman and paul they were just brilliant children are often left out of the ? list i think because the stars that play them all grown up are such a big profile for the whole film but these children are amazing and should be praised for what they have done don't you think the whole story was so lovely because it was true and was someone's life after all that was shared with us all\""
            ]
          },
          "metadata": {},
          "execution_count": 3
        }
      ]
    },
    {
      "cell_type": "markdown",
      "metadata": {
        "id": "Om6eDbaWcs4G"
      },
      "source": [
        "### Vectorize input data and labels"
      ]
    },
    {
      "cell_type": "code",
      "metadata": {
        "id": "NNjv42qENI-N"
      },
      "source": [
        "import numpy as np\n",
        "\n",
        "def vectorize_sequences(sequences, dimension=10000):\n",
        "    results = np.zeros((len(sequences), dimension))    # Creates an all zero matrix of shape (len(sequences),10K)\n",
        "    for i,sequence in enumerate(sequences):\n",
        "        results[i,sequence] = 1                        # Sets specific indices of results[i] to 1s\n",
        "    return results\n",
        "\n",
        "# Vectorize training Data\n",
        "X_train = vectorize_sequences(train_data)\n",
        "\n",
        "# Vectorize testing Data\n",
        "X_test = vectorize_sequences(test_data)"
      ],
      "execution_count": 4,
      "outputs": []
    },
    {
      "cell_type": "code",
      "metadata": {
        "colab": {
          "base_uri": "https://localhost:8080/"
        },
        "id": "syGGjgeAaiIM",
        "outputId": "f902751a-2bce-43d9-befc-d54a89b11e5c"
      },
      "source": [
        "print(train_labels.shape)\n",
        "train_labels"
      ],
      "execution_count": 5,
      "outputs": [
        {
          "output_type": "stream",
          "name": "stdout",
          "text": [
            "(25000,)\n"
          ]
        },
        {
          "output_type": "execute_result",
          "data": {
            "text/plain": [
              "array([1, 0, 0, ..., 0, 1, 0])"
            ]
          },
          "metadata": {},
          "execution_count": 5
        }
      ]
    },
    {
      "cell_type": "code",
      "metadata": {
        "colab": {
          "base_uri": "https://localhost:8080/"
        },
        "id": "rgLZ0j7qaroM",
        "outputId": "60ce6343-cf8c-4bcb-96ef-d7c3f7b5e20c"
      },
      "source": [
        "print(test_labels.shape)\n",
        "test_labels"
      ],
      "execution_count": 6,
      "outputs": [
        {
          "output_type": "stream",
          "name": "stdout",
          "text": [
            "(25000,)\n"
          ]
        },
        {
          "output_type": "execute_result",
          "data": {
            "text/plain": [
              "array([0, 1, 1, ..., 0, 0, 0])"
            ]
          },
          "metadata": {},
          "execution_count": 6
        }
      ]
    },
    {
      "cell_type": "markdown",
      "metadata": {
        "id": "u45h8eflcw-V"
      },
      "source": [
        "### Distribution"
      ]
    },
    {
      "cell_type": "code",
      "metadata": {
        "colab": {
          "base_uri": "https://localhost:8080/",
          "height": 320
        },
        "id": "UwVN10wxau-f",
        "outputId": "55578338-25ee-46ba-a419-6126e8ed6c7b"
      },
      "source": [
        "import numpy as np\n",
        "import matplotlib.pyplot as plt\n",
        " \n",
        "fig = plt.figure(figsize=(5,5))\n",
        "colors = [\"lightgreen\",'coral']\n",
        "pos = 0\n",
        "neg = 0\n",
        "for x in train_labels:\n",
        "  if x==0:\n",
        "      neg=neg+1\n",
        "  else:\n",
        "      pos=pos+1\n",
        "ck=[]\n",
        "ck.append(pos)\n",
        "ck.append(neg)\n",
        "piechart = plt.pie(ck,labels=[\"Positive\",\"Negative\"],\n",
        "                 autopct ='%1.1f%%',\n",
        "                 shadow = True,\n",
        "                 colors = colors,\n",
        "                 startangle = 15,\n",
        "                 explode=(0, 0.05))\n",
        "print(pos)"
      ],
      "execution_count": 7,
      "outputs": [
        {
          "output_type": "stream",
          "name": "stdout",
          "text": [
            "12500\n"
          ]
        },
        {
          "output_type": "display_data",
          "data": {
            "image/png": "[encoded data removed]",
            "text/plain": [
              "<Figure size 360x360 with 1 Axes>"
            ]
          },
          "metadata": {}
        }
      ]
    },
    {
      "cell_type": "code",
      "metadata": {
        "colab": {
          "base_uri": "https://localhost:8080/"
        },
        "id": "M_6OyFstNQ5Z",
        "outputId": "1a4fc081-ff97-438c-9a8d-498ad513cba4"
      },
      "source": [
        "print(X_train.shape)\n",
        "X_train"
      ],
      "execution_count": 8,
      "outputs": [
        {
          "output_type": "stream",
          "name": "stdout",
          "text": [
            "(25000, 10000)\n"
          ]
        },
        {
          "output_type": "execute_result",
          "data": {
            "text/plain": [
              "array([[0., 1., 1., ..., 0., 0., 0.],\n",
              "       [0., 1., 1., ..., 0., 0., 0.],\n",
              "       [0., 1., 1., ..., 0., 0., 0.],\n",
              "       ...,\n",
              "       [0., 1., 1., ..., 0., 0., 0.],\n",
              "       [0., 1., 1., ..., 0., 0., 0.],\n",
              "       [0., 1., 1., ..., 0., 0., 0.]])"
            ]
          },
          "metadata": {},
          "execution_count": 8
        }
      ]
    },
    {
      "cell_type": "code",
      "metadata": {
        "id": "InZp-pIGNQ8L"
      },
      "source": [
        "y_train = np.asarray(train_labels).astype('float32')\n",
        "y_test  = np.asarray(test_labels).astype('float32')"
      ],
      "execution_count": 9,
      "outputs": []
    },
    {
      "cell_type": "code",
      "metadata": {
        "colab": {
          "base_uri": "https://localhost:8080/"
        },
        "id": "nMZuv13sZIpm",
        "outputId": "55fde85a-e220-4e51-edde-2290a68ab4e0"
      },
      "source": [
        "print(y_test.shape)\n",
        "y_test\n"
      ],
      "execution_count": 10,
      "outputs": [
        {
          "output_type": "stream",
          "name": "stdout",
          "text": [
            "(25000,)\n"
          ]
        },
        {
          "output_type": "execute_result",
          "data": {
            "text/plain": [
              "array([0., 1., 1., ..., 0., 0., 0.], dtype=float32)"
            ]
          },
          "metadata": {},
          "execution_count": 10
        }
      ]
    },
    {
      "cell_type": "code",
      "metadata": {
        "id": "668k815XN_mS"
      },
      "source": [
        "from keras import models\n",
        "from keras import layers"
      ],
      "execution_count": 11,
      "outputs": []
    },
    {
      "cell_type": "code",
      "metadata": {
        "id": "ef7IdGUdN_pJ"
      },
      "source": [
        "from tensorflow.keras import optimizers\n",
        "from keras import losses\n",
        "from keras import metrics"
      ],
      "execution_count": 12,
      "outputs": []
    },
    {
      "cell_type": "code",
      "metadata": {
        "id": "ox9zUmatN_s4"
      },
      "source": [
        "# Input for Validation\n",
        "X_val = X_train[:5000]\n",
        "partial_X_train = X_train[5000:]\n",
        "\n",
        "# Labels for validation\n",
        "y_val = y_train[:5000]\n",
        "partial_y_train = y_train[5000:]"
      ],
      "execution_count": 13,
      "outputs": []
    },
    {
      "cell_type": "markdown",
      "metadata": {
        "id": "PQEo6oK5eRSl"
      },
      "source": [
        "### Training Model"
      ]
    },
    {
      "cell_type": "code",
      "metadata": {
        "colab": {
          "base_uri": "https://localhost:8080/"
        },
        "id": "Zbn0YxuARsXd",
        "outputId": "d3c6bf81-9373-436c-dcc9-ab01dfe895a7"
      },
      "source": [
        "trainingLoss = {}\n",
        "from ADAM import ADAM\n",
        "\n",
        "def trainDifOptimizer(optmzr):\n",
        "    # torch.manual_seed(seed)\n",
        "    model = models.Sequential()\n",
        "    model.add(layers.Dense(20, activation='relu', input_shape=(10000,)))\n",
        "    model.add(layers.Dense(20, activation='relu'))\n",
        "    model.add(layers.Dense(1, activation='sigmoid'))\n",
        "    optimizer = None\n",
        "    if optmzr=='Adam_scratch':\n",
        "      optimizer = getattr(optimizers,\"Adam\")(lr=0.01) \n",
        "    else:\n",
        "      optimizer = getattr(optimizers, optmzr)(lr=0.01)\n",
        "    model.compile(optimizer=optimizer,\n",
        "              loss = losses.binary_crossentropy,\n",
        "              metrics = [metrics.binary_accuracy])\n",
        "    n_epochs = 15 \n",
        "\n",
        "    trainLossForOptimizer = []\n",
        "    print(\"\\n-----------------------------------------\\n\")\n",
        "    print(\"Optimizer : \", optmzr, \"\\n\")\n",
        "    history = model.fit(partial_X_train,\n",
        "                partial_y_train,\n",
        "                epochs=15,\n",
        "                batch_size=100,\n",
        "                validation_data=(X_val, y_val))\n",
        "\n",
        "    trainingLoss[optmzr] = history.history['loss']\n",
        "    print(\"\\n-----------------------------------------\\n\")\n",
        "\n",
        "optimizersLst = ['Adam_scratch','RMSprop','Adam', 'SGD','Adadelta']\n",
        "for optmzr in optimizersLst:\n",
        "    trainDifOptimizer(optmzr)\n",
        "\n",
        "print(trainingLoss)"
      ],
      "execution_count": 14,
      "outputs": [
        {
          "output_type": "stream",
          "name": "stderr",
          "text": [
            "/usr/local/lib/python3.7/dist-packages/keras/optimizer_v2/adam.py:105: UserWarning: The `lr` argument is deprecated, use `learning_rate` instead.\n",
            "  super(Adam, self).__init__(name, **kwargs)\n"
          ]
        },
        {
          "output_type": "stream",
          "name": "stdout",
          "text": [
            "\n",
            "-----------------------------------------\n",
            "\n",
            "Optimizer :  Adam_scratch \n",
            "\n",
            "Epoch 1/15\n",
            "200/200 [==============================] - 3s 12ms/step - loss: 0.3287 - binary_accuracy: 0.8593 - val_loss: 0.2813 - val_binary_accuracy: 0.8828\n",
            "Epoch 2/15\n",
            "200/200 [==============================] - 2s 10ms/step - loss: 0.1682 - binary_accuracy: 0.9344 - val_loss: 0.3127 - val_binary_accuracy: 0.8798\n",
            "Epoch 3/15\n",
            "200/200 [==============================] - 2s 10ms/step - loss: 0.1038 - binary_accuracy: 0.9582 - val_loss: 0.4218 - val_binary_accuracy: 0.8690\n",
            "Epoch 4/15\n",
            "200/200 [==============================] - 2s 10ms/step - loss: 0.0719 - binary_accuracy: 0.9707 - val_loss: 0.4766 - val_binary_accuracy: 0.8708\n",
            "Epoch 5/15\n",
            "200/200 [==============================] - 2s 10ms/step - loss: 0.0489 - binary_accuracy: 0.9808 - val_loss: 0.6401 - val_binary_accuracy: 0.8696\n",
            "Epoch 6/15\n",
            "200/200 [==============================] - 2s 10ms/step - loss: 0.0442 - binary_accuracy: 0.9837 - val_loss: 0.6605 - val_binary_accuracy: 0.8674\n",
            "Epoch 7/15\n",
            "200/200 [==============================] - 2s 10ms/step - loss: 0.0377 - binary_accuracy: 0.9855 - val_loss: 0.7064 - val_binary_accuracy: 0.8612\n",
            "Epoch 8/15\n",
            "200/200 [==============================] - 2s 9ms/step - loss: 0.0229 - binary_accuracy: 0.9919 - val_loss: 0.8544 - val_binary_accuracy: 0.8652\n",
            "Epoch 9/15\n",
            "200/200 [==============================] - 2s 10ms/step - loss: 0.0183 - binary_accuracy: 0.9944 - val_loss: 0.9106 - val_binary_accuracy: 0.8708\n",
            "Epoch 10/15\n",
            "200/200 [==============================] - 2s 10ms/step - loss: 0.0157 - binary_accuracy: 0.9947 - val_loss: 1.0331 - val_binary_accuracy: 0.8652\n",
            "Epoch 11/15\n",
            "200/200 [==============================] - 2s 10ms/step - loss: 0.0220 - binary_accuracy: 0.9934 - val_loss: 1.1009 - val_binary_accuracy: 0.8640\n",
            "Epoch 12/15\n",
            "200/200 [==============================] - 2s 10ms/step - loss: 0.0192 - binary_accuracy: 0.9941 - val_loss: 0.9419 - val_binary_accuracy: 0.8568\n",
            "Epoch 13/15\n",
            "200/200 [==============================] - 2s 10ms/step - loss: 0.0153 - binary_accuracy: 0.9949 - val_loss: 1.0104 - val_binary_accuracy: 0.8668\n",
            "Epoch 14/15\n",
            "200/200 [==============================] - 2s 9ms/step - loss: 0.0119 - binary_accuracy: 0.9961 - val_loss: 1.1595 - val_binary_accuracy: 0.8648\n",
            "Epoch 15/15\n",
            "200/200 [==============================] - 2s 10ms/step - loss: 0.0146 - binary_accuracy: 0.9947 - val_loss: 1.0944 - val_binary_accuracy: 0.8634\n",
            "\n",
            "-----------------------------------------\n",
            "\n",
            "\n",
            "-----------------------------------------\n",
            "\n",
            "Optimizer :  RMSprop \n",
            "\n"
          ]
        },
        {
          "output_type": "stream",
          "name": "stderr",
          "text": [
            "/usr/local/lib/python3.7/dist-packages/keras/optimizer_v2/rmsprop.py:130: UserWarning: The `lr` argument is deprecated, use `learning_rate` instead.\n",
            "  super(RMSprop, self).__init__(name, **kwargs)\n"
          ]
        },
        {
          "output_type": "stream",
          "name": "stdout",
          "text": [
            "Epoch 1/15\n",
            "200/200 [==============================] - 3s 12ms/step - loss: 0.3716 - binary_accuracy: 0.8338 - val_loss: 0.2756 - val_binary_accuracy: 0.8906\n",
            "Epoch 2/15\n",
            "200/200 [==============================] - 2s 11ms/step - loss: 0.2046 - binary_accuracy: 0.9208 - val_loss: 0.2970 - val_binary_accuracy: 0.8852\n",
            "Epoch 3/15\n",
            "200/200 [==============================] - 2s 11ms/step - loss: 0.1514 - binary_accuracy: 0.9437 - val_loss: 0.3625 - val_binary_accuracy: 0.8808\n",
            "Epoch 4/15\n",
            "200/200 [==============================] - 2s 11ms/step - loss: 0.1075 - binary_accuracy: 0.9611 - val_loss: 0.4426 - val_binary_accuracy: 0.8816\n",
            "Epoch 5/15\n",
            "200/200 [==============================] - 2s 11ms/step - loss: 0.0782 - binary_accuracy: 0.9714 - val_loss: 0.5443 - val_binary_accuracy: 0.8794\n",
            "Epoch 6/15\n",
            "200/200 [==============================] - 2s 11ms/step - loss: 0.0603 - binary_accuracy: 0.9791 - val_loss: 0.6490 - val_binary_accuracy: 0.8762\n",
            "Epoch 7/15\n",
            "200/200 [==============================] - 2s 11ms/step - loss: 0.0453 - binary_accuracy: 0.9833 - val_loss: 0.8304 - val_binary_accuracy: 0.8718\n",
            "Epoch 8/15\n",
            "200/200 [==============================] - 2s 11ms/step - loss: 0.0365 - binary_accuracy: 0.9868 - val_loss: 0.9099 - val_binary_accuracy: 0.8738\n",
            "Epoch 9/15\n",
            "200/200 [==============================] - 2s 12ms/step - loss: 0.0271 - binary_accuracy: 0.9896 - val_loss: 1.3242 - val_binary_accuracy: 0.8620\n",
            "Epoch 10/15\n",
            "200/200 [==============================] - 2s 11ms/step - loss: 0.0286 - binary_accuracy: 0.9901 - val_loss: 1.1837 - val_binary_accuracy: 0.8644\n",
            "Epoch 11/15\n",
            "200/200 [==============================] - 2s 11ms/step - loss: 0.0198 - binary_accuracy: 0.9913 - val_loss: 1.2329 - val_binary_accuracy: 0.8710\n",
            "Epoch 12/15\n",
            "200/200 [==============================] - 2s 11ms/step - loss: 0.0232 - binary_accuracy: 0.9922 - val_loss: 1.4247 - val_binary_accuracy: 0.8636\n",
            "Epoch 13/15\n",
            "200/200 [==============================] - 2s 12ms/step - loss: 0.0162 - binary_accuracy: 0.9937 - val_loss: 1.7697 - val_binary_accuracy: 0.8702\n",
            "Epoch 14/15\n",
            "200/200 [==============================] - 2s 11ms/step - loss: 0.0152 - binary_accuracy: 0.9940 - val_loss: 2.2519 - val_binary_accuracy: 0.8682\n",
            "Epoch 15/15\n",
            "200/200 [==============================] - 2s 11ms/step - loss: 0.0172 - binary_accuracy: 0.9938 - val_loss: 1.9731 - val_binary_accuracy: 0.8650\n",
            "\n",
            "-----------------------------------------\n",
            "\n",
            "\n",
            "-----------------------------------------\n",
            "\n",
            "Optimizer :  Adam \n",
            "\n",
            "Epoch 1/15\n",
            "200/200 [==============================] - 3s 12ms/step - loss: 0.3293 - binary_accuracy: 0.8593 - val_loss: 0.2888 - val_binary_accuracy: 0.8792\n",
            "Epoch 2/15\n",
            "200/200 [==============================] - 2s 10ms/step - loss: 0.1706 - binary_accuracy: 0.9329 - val_loss: 0.3076 - val_binary_accuracy: 0.8824\n",
            "Epoch 3/15\n",
            "200/200 [==============================] - 2s 10ms/step - loss: 0.1065 - binary_accuracy: 0.9589 - val_loss: 0.3714 - val_binary_accuracy: 0.8706\n",
            "Epoch 4/15\n",
            "200/200 [==============================] - 2s 10ms/step - loss: 0.0761 - binary_accuracy: 0.9704 - val_loss: 0.3637 - val_binary_accuracy: 0.8746\n",
            "Epoch 5/15\n",
            "200/200 [==============================] - 2s 10ms/step - loss: 0.0574 - binary_accuracy: 0.9767 - val_loss: 0.6161 - val_binary_accuracy: 0.8724\n",
            "Epoch 6/15\n",
            "200/200 [==============================] - 2s 11ms/step - loss: 0.0269 - binary_accuracy: 0.9898 - val_loss: 0.7031 - val_binary_accuracy: 0.8672\n",
            "Epoch 7/15\n",
            "200/200 [==============================] - 2s 11ms/step - loss: 0.0314 - binary_accuracy: 0.9890 - val_loss: 0.7250 - val_binary_accuracy: 0.8670\n",
            "Epoch 8/15\n",
            "200/200 [==============================] - 2s 11ms/step - loss: 0.0251 - binary_accuracy: 0.9915 - val_loss: 0.8977 - val_binary_accuracy: 0.8642\n",
            "Epoch 9/15\n",
            "200/200 [==============================] - 2s 11ms/step - loss: 0.0174 - binary_accuracy: 0.9941 - val_loss: 0.9084 - val_binary_accuracy: 0.8632\n",
            "Epoch 10/15\n",
            "200/200 [==============================] - 2s 11ms/step - loss: 0.0077 - binary_accuracy: 0.9974 - val_loss: 1.1221 - val_binary_accuracy: 0.8632\n",
            "Epoch 11/15\n",
            "200/200 [==============================] - 2s 11ms/step - loss: 0.0181 - binary_accuracy: 0.9942 - val_loss: 1.1094 - val_binary_accuracy: 0.8566\n",
            "Epoch 12/15\n",
            "200/200 [==============================] - 2s 10ms/step - loss: 0.0297 - binary_accuracy: 0.9904 - val_loss: 0.7492 - val_binary_accuracy: 0.8572\n",
            "Epoch 13/15\n",
            "200/200 [==============================] - 2s 10ms/step - loss: 0.0156 - binary_accuracy: 0.9948 - val_loss: 0.8632 - val_binary_accuracy: 0.8634\n",
            "Epoch 14/15\n",
            "200/200 [==============================] - 2s 11ms/step - loss: 0.0094 - binary_accuracy: 0.9969 - val_loss: 1.1222 - val_binary_accuracy: 0.8604\n",
            "Epoch 15/15\n",
            "200/200 [==============================] - 2s 10ms/step - loss: 0.0048 - binary_accuracy: 0.9984 - val_loss: 1.3577 - val_binary_accuracy: 0.8638\n",
            "\n",
            "-----------------------------------------\n",
            "\n",
            "\n",
            "-----------------------------------------\n",
            "\n",
            "Optimizer :  SGD \n",
            "\n"
          ]
        },
        {
          "output_type": "stream",
          "name": "stderr",
          "text": [
            "/usr/local/lib/python3.7/dist-packages/keras/optimizer_v2/gradient_descent.py:102: UserWarning: The `lr` argument is deprecated, use `learning_rate` instead.\n",
            "  super(SGD, self).__init__(name, **kwargs)\n"
          ]
        },
        {
          "output_type": "stream",
          "name": "stdout",
          "text": [
            "Epoch 1/15\n",
            "200/200 [==============================] - 3s 11ms/step - loss: 0.6756 - binary_accuracy: 0.6022 - val_loss: 0.6474 - val_binary_accuracy: 0.7002\n",
            "Epoch 2/15\n",
            "200/200 [==============================] - 2s 10ms/step - loss: 0.5944 - binary_accuracy: 0.7761 - val_loss: 0.5519 - val_binary_accuracy: 0.7816\n",
            "Epoch 3/15\n",
            "200/200 [==============================] - 2s 10ms/step - loss: 0.4911 - binary_accuracy: 0.8213 - val_loss: 0.4573 - val_binary_accuracy: 0.8184\n",
            "Epoch 4/15\n",
            "200/200 [==============================] - 2s 10ms/step - loss: 0.4098 - binary_accuracy: 0.8447 - val_loss: 0.3973 - val_binary_accuracy: 0.8366\n",
            "Epoch 5/15\n",
            "200/200 [==============================] - 2s 10ms/step - loss: 0.3580 - binary_accuracy: 0.8590 - val_loss: 0.3628 - val_binary_accuracy: 0.8506\n",
            "Epoch 6/15\n",
            "200/200 [==============================] - 2s 11ms/step - loss: 0.3248 - binary_accuracy: 0.8713 - val_loss: 0.3417 - val_binary_accuracy: 0.8606\n",
            "Epoch 7/15\n",
            "200/200 [==============================] - 2s 10ms/step - loss: 0.3010 - binary_accuracy: 0.8809 - val_loss: 0.3273 - val_binary_accuracy: 0.8654\n",
            "Epoch 8/15\n",
            "200/200 [==============================] - 2s 10ms/step - loss: 0.2823 - binary_accuracy: 0.8889 - val_loss: 0.3180 - val_binary_accuracy: 0.8710\n",
            "Epoch 9/15\n",
            "200/200 [==============================] - 2s 9ms/step - loss: 0.2666 - binary_accuracy: 0.8972 - val_loss: 0.3107 - val_binary_accuracy: 0.8750\n",
            "Epoch 10/15\n",
            "200/200 [==============================] - 2s 9ms/step - loss: 0.2533 - binary_accuracy: 0.9018 - val_loss: 0.3054 - val_binary_accuracy: 0.8778\n",
            "Epoch 11/15\n",
            "200/200 [==============================] - 2s 9ms/step - loss: 0.2414 - binary_accuracy: 0.9076 - val_loss: 0.3014 - val_binary_accuracy: 0.8788\n",
            "Epoch 12/15\n",
            "200/200 [==============================] - 2s 9ms/step - loss: 0.2322 - binary_accuracy: 0.9121 - val_loss: 0.2970 - val_binary_accuracy: 0.8808\n",
            "Epoch 13/15\n",
            "200/200 [==============================] - 2s 10ms/step - loss: 0.2223 - binary_accuracy: 0.9155 - val_loss: 0.2950 - val_binary_accuracy: 0.8834\n",
            "Epoch 14/15\n",
            "200/200 [==============================] - 2s 9ms/step - loss: 0.2133 - binary_accuracy: 0.9198 - val_loss: 0.2939 - val_binary_accuracy: 0.8820\n",
            "Epoch 15/15\n",
            "200/200 [==============================] - 2s 9ms/step - loss: 0.2055 - binary_accuracy: 0.9237 - val_loss: 0.3077 - val_binary_accuracy: 0.8748\n",
            "\n",
            "-----------------------------------------\n",
            "\n",
            "\n",
            "-----------------------------------------\n",
            "\n",
            "Optimizer :  Adadelta \n",
            "\n"
          ]
        },
        {
          "output_type": "stream",
          "name": "stderr",
          "text": [
            "/usr/local/lib/python3.7/dist-packages/keras/optimizer_v2/adadelta.py:74: UserWarning: The `lr` argument is deprecated, use `learning_rate` instead.\n",
            "  super(Adadelta, self).__init__(name, **kwargs)\n"
          ]
        },
        {
          "output_type": "stream",
          "name": "stdout",
          "text": [
            "Epoch 1/15\n",
            "200/200 [==============================] - 3s 11ms/step - loss: 0.6879 - binary_accuracy: 0.5626 - val_loss: 0.6851 - val_binary_accuracy: 0.5888\n",
            "Epoch 2/15\n",
            "200/200 [==============================] - 2s 10ms/step - loss: 0.6784 - binary_accuracy: 0.6256 - val_loss: 0.6740 - val_binary_accuracy: 0.6540\n",
            "Epoch 3/15\n",
            "200/200 [==============================] - 2s 10ms/step - loss: 0.6646 - binary_accuracy: 0.6886 - val_loss: 0.6590 - val_binary_accuracy: 0.7020\n",
            "Epoch 4/15\n",
            "200/200 [==============================] - 2s 10ms/step - loss: 0.6472 - binary_accuracy: 0.7327 - val_loss: 0.6411 - val_binary_accuracy: 0.7402\n",
            "Epoch 5/15\n",
            "200/200 [==============================] - 2s 11ms/step - loss: 0.6271 - binary_accuracy: 0.7682 - val_loss: 0.6211 - val_binary_accuracy: 0.7682\n",
            "Epoch 6/15\n",
            "200/200 [==============================] - 2s 11ms/step - loss: 0.6055 - binary_accuracy: 0.7916 - val_loss: 0.5999 - val_binary_accuracy: 0.7894\n",
            "Epoch 7/15\n",
            "200/200 [==============================] - 2s 10ms/step - loss: 0.5832 - binary_accuracy: 0.8091 - val_loss: 0.5783 - val_binary_accuracy: 0.8076\n",
            "Epoch 8/15\n",
            "200/200 [==============================] - 2s 11ms/step - loss: 0.5608 - binary_accuracy: 0.8219 - val_loss: 0.5571 - val_binary_accuracy: 0.8160\n",
            "Epoch 9/15\n",
            "200/200 [==============================] - 2s 11ms/step - loss: 0.5391 - binary_accuracy: 0.8309 - val_loss: 0.5368 - val_binary_accuracy: 0.8250\n",
            "Epoch 10/15\n",
            "200/200 [==============================] - 2s 10ms/step - loss: 0.5180 - binary_accuracy: 0.8403 - val_loss: 0.5173 - val_binary_accuracy: 0.8322\n",
            "Epoch 11/15\n",
            "200/200 [==============================] - 2s 11ms/step - loss: 0.4979 - binary_accuracy: 0.8468 - val_loss: 0.4991 - val_binary_accuracy: 0.8378\n",
            "Epoch 12/15\n",
            "200/200 [==============================] - 2s 10ms/step - loss: 0.4791 - binary_accuracy: 0.8519 - val_loss: 0.4822 - val_binary_accuracy: 0.8408\n",
            "Epoch 13/15\n",
            "200/200 [==============================] - 2s 10ms/step - loss: 0.4616 - binary_accuracy: 0.8572 - val_loss: 0.4668 - val_binary_accuracy: 0.8438\n",
            "Epoch 14/15\n",
            "200/200 [==============================] - 2s 10ms/step - loss: 0.4455 - binary_accuracy: 0.8614 - val_loss: 0.4519 - val_binary_accuracy: 0.8468\n",
            "Epoch 15/15\n",
            "200/200 [==============================] - 2s 10ms/step - loss: 0.4305 - binary_accuracy: 0.8645 - val_loss: 0.4388 - val_binary_accuracy: 0.8496\n",
            "\n",
            "-----------------------------------------\n",
            "\n",
            "{'Adam_scratch': [0.3287449777126312, 0.16818924248218536, 0.10383477807044983, 0.0719137117266655, 0.04889042302966118, 0.04420217499136925, 0.0376875139772892, 0.022944949567317963, 0.018313849344849586, 0.015713831409811974, 0.02197318524122238, 0.0192436333745718, 0.015255879610776901, 0.011876015923917294, 0.01460452564060688], 'RMSprop': [0.3716278672218323, 0.20460501313209534, 0.15136489272117615, 0.10751964151859283, 0.07818185538053513, 0.060339100658893585, 0.045264776796102524, 0.0365305095911026, 0.02714957855641842, 0.028601381927728653, 0.019809043034911156, 0.02316933684051037, 0.01623068004846573, 0.015162486582994461, 0.017199495807290077], 'Adam': [0.32928019762039185, 0.17059428989887238, 0.1065215915441513, 0.07609926164150238, 0.05736783519387245, 0.026886602863669395, 0.031398192048072815, 0.02514266036450863, 0.017387131229043007, 0.00766131654381752, 0.01812427118420601, 0.029662685468792915, 0.015592020004987717, 0.009375739842653275, 0.004793308675289154], 'SGD': [0.6756247282028198, 0.5943872332572937, 0.4911368787288666, 0.4097675681114197, 0.3580269515514374, 0.32476097345352173, 0.3010100722312927, 0.2823348939418793, 0.2666206955909729, 0.25331202149391174, 0.24142839014530182, 0.2322099804878235, 0.22226904332637787, 0.2132922112941742, 0.20551882684230804], 'Adadelta': [0.6879374980926514, 0.6784021854400635, 0.6646470427513123, 0.6471893787384033, 0.627145528793335, 0.6055217385292053, 0.5832096934318542, 0.5608460307121277, 0.5391185283660889, 0.518000066280365, 0.4979041516780853, 0.47909003496170044, 0.46159127354621887, 0.4454834461212158, 0.4305068850517273]}\n"
          ]
        }
      ]
    },
    {
      "cell_type": "code",
      "metadata": {
        "id": "pU4NjKZJN_ze"
      },
      "source": [
        "import matplotlib.pyplot as plt\n",
        "%matplotlib inline"
      ],
      "execution_count": 15,
      "outputs": []
    },
    {
      "cell_type": "code",
      "metadata": {
        "colab": {
          "base_uri": "https://localhost:8080/",
          "height": 295
        },
        "id": "H7D7U_mPN_2I",
        "outputId": "9ce762e3-e624-4c4a-d624-2b597eb9f441"
      },
      "source": [
        "# Plotting losses\n",
        "Xval = np.arange(1, 16)\n",
        "\n",
        "plt.xlabel(\"Epoch\")  # add X-axis label\n",
        "plt.ylabel(\"Training Loss\")  # add Y-axis label\n",
        "plt.title(\"Logistic Regression on IMDB with different optimizers\")  # add title\n",
        "\n",
        "for key, value in trainingLoss.items():\n",
        "    plt.plot(Xval, value, label=key)\n",
        "\n",
        "plt.legend()\n",
        "plt.show()"
      ],
      "execution_count": 16,
      "outputs": [
        {
          "output_type": "display_data",
          "data": {
            "image/png": "[encoded data removed]",
            "text/plain": [
              "<Figure size 432x288 with 1 Axes>"
            ]
          },
          "metadata": {
            "needs_background": "light"
          }
        }
      ]
    },
    {
      "cell_type": "markdown",
      "metadata": {
        "id": "6DdW3Sb3dzvI"
      },
      "source": [
        "### Accuracy and Result"
      ]
    },
    {
      "cell_type": "code",
      "metadata": {
        "id": "U9GOj9bROhdq",
        "colab": {
          "base_uri": "https://localhost:8080/"
        },
        "outputId": "2819ac69-dda8-4798-90c4-0d979ae26070"
      },
      "source": [
        "# Making Predictions for testing data\n",
        "\n",
        "model = models.Sequential()\n",
        "model.add(layers.Dense(20, activation='relu', input_shape=(10000,)))\n",
        "model.add(layers.Dense(20, activation='relu'))\n",
        "model.add(layers.Dense(1, activation='sigmoid'))\n",
        "model.compile(optimizer=\"Adam\",\n",
        "          loss = losses.binary_crossentropy,\n",
        "            metrics = [metrics.binary_accuracy])\n",
        "\n",
        "history = model.fit(partial_X_train,\n",
        "            partial_y_train,\n",
        "            epochs=15,\n",
        "            batch_size=100,\n",
        "            validation_data=(X_val, y_val))\n",
        "\n",
        "\n",
        "np.set_printoptions(suppress=True)\n",
        "result = model.predict(X_test)"
      ],
      "execution_count": 17,
      "outputs": [
        {
          "output_type": "stream",
          "name": "stdout",
          "text": [
            "Epoch 1/15\n",
            "200/200 [==============================] - 3s 12ms/step - loss: 0.3820 - binary_accuracy: 0.8458 - val_loss: 0.2790 - val_binary_accuracy: 0.8898\n",
            "Epoch 2/15\n",
            "200/200 [==============================] - 2s 10ms/step - loss: 0.1920 - binary_accuracy: 0.9301 - val_loss: 0.2955 - val_binary_accuracy: 0.8822\n",
            "Epoch 3/15\n",
            "200/200 [==============================] - 2s 10ms/step - loss: 0.1298 - binary_accuracy: 0.9539 - val_loss: 0.3321 - val_binary_accuracy: 0.8812\n",
            "Epoch 4/15\n",
            "200/200 [==============================] - 2s 10ms/step - loss: 0.0908 - binary_accuracy: 0.9697 - val_loss: 0.4050 - val_binary_accuracy: 0.8754\n",
            "Epoch 5/15\n",
            "200/200 [==============================] - 2s 10ms/step - loss: 0.0604 - binary_accuracy: 0.9811 - val_loss: 0.4686 - val_binary_accuracy: 0.8728\n",
            "Epoch 6/15\n",
            "200/200 [==============================] - 2s 11ms/step - loss: 0.0419 - binary_accuracy: 0.9873 - val_loss: 0.5620 - val_binary_accuracy: 0.8664\n",
            "Epoch 7/15\n",
            "200/200 [==============================] - 2s 10ms/step - loss: 0.0269 - binary_accuracy: 0.9931 - val_loss: 0.6165 - val_binary_accuracy: 0.8682\n",
            "Epoch 8/15\n",
            "200/200 [==============================] - 2s 10ms/step - loss: 0.0149 - binary_accuracy: 0.9969 - val_loss: 0.7022 - val_binary_accuracy: 0.8678\n",
            "Epoch 9/15\n",
            "200/200 [==============================] - 2s 10ms/step - loss: 0.0087 - binary_accuracy: 0.9985 - val_loss: 0.7709 - val_binary_accuracy: 0.8686\n",
            "Epoch 10/15\n",
            "200/200 [==============================] - 2s 10ms/step - loss: 0.0052 - binary_accuracy: 0.9993 - val_loss: 0.8218 - val_binary_accuracy: 0.8700\n",
            "Epoch 11/15\n",
            "200/200 [==============================] - 2s 11ms/step - loss: 0.0023 - binary_accuracy: 0.9998 - val_loss: 0.8685 - val_binary_accuracy: 0.8696\n",
            "Epoch 12/15\n",
            "200/200 [==============================] - 2s 10ms/step - loss: 0.0012 - binary_accuracy: 0.9999 - val_loss: 0.9169 - val_binary_accuracy: 0.8688\n",
            "Epoch 13/15\n",
            "200/200 [==============================] - 2s 10ms/step - loss: 7.4742e-04 - binary_accuracy: 1.0000 - val_loss: 0.9523 - val_binary_accuracy: 0.8682\n",
            "Epoch 14/15\n",
            "200/200 [==============================] - 2s 10ms/step - loss: 5.5972e-04 - binary_accuracy: 1.0000 - val_loss: 0.9809 - val_binary_accuracy: 0.8692\n",
            "Epoch 15/15\n",
            "200/200 [==============================] - 2s 10ms/step - loss: 4.3896e-04 - binary_accuracy: 1.0000 - val_loss: 1.0084 - val_binary_accuracy: 0.8686\n"
          ]
        }
      ]
    },
    {
      "cell_type": "code",
      "metadata": {
        "colab": {
          "base_uri": "https://localhost:8080/"
        },
        "id": "VOSK6a4-O9oS",
        "outputId": "57cf2c44-0a8c-40e3-f894-b5b2681ab111"
      },
      "source": [
        "result"
      ],
      "execution_count": 18,
      "outputs": [
        {
          "output_type": "execute_result",
          "data": {
            "text/plain": [
              "array([[0.0001216 ],\n",
              "       [1.        ],\n",
              "       [0.00460193],\n",
              "       ...,\n",
              "       [0.00137717],\n",
              "       [0.00022405],\n",
              "       [0.9893485 ]], dtype=float32)"
            ]
          },
          "metadata": {},
          "execution_count": 18
        }
      ]
    },
    {
      "cell_type": "code",
      "metadata": {
        "id": "aX6pio04O9ql"
      },
      "source": [
        "y_pred = np.zeros(len(result))\n",
        "for i, score in enumerate(result):\n",
        "    y_pred[i] = 1 if score > 0.5 else 0"
      ],
      "execution_count": 19,
      "outputs": []
    },
    {
      "cell_type": "code",
      "metadata": {
        "id": "mxMV6-h_O9uB",
        "colab": {
          "base_uri": "https://localhost:8080/"
        },
        "outputId": "935da282-98fb-4def-d5ee-9ced15291c16"
      },
      "source": [
        "from sklearn.metrics import mean_absolute_error,accuracy_score\n",
        "print(\"Mean Absolute Error :\", mean_absolute_error(y_pred, y_test))\n",
        "print(\"Accuracy :\",100*(accuracy_score(y_test, y_pred)))"
      ],
      "execution_count": 20,
      "outputs": [
        {
          "output_type": "stream",
          "name": "stdout",
          "text": [
            "Mean Absolute Error : 0.149\n",
            "Accuracy : 85.1\n"
          ]
        }
      ]
    }
  ]
}