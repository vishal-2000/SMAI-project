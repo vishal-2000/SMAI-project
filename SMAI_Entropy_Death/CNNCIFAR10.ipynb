{
 "cells": [
  {
   "cell_type": "markdown",
   "id": "bound-nowhere",
   "metadata": {},
   "source": [
    "<h1>CIFAR 10</h1>\n",
    "\n",
    "<h1>Importing Modules</h1>\n"
   ]
  },
  {
   "cell_type": "code",
   "execution_count": 30,
   "id": "consolidated-degree",
   "metadata": {},
   "outputs": [],
   "source": [
    "import torch\n",
    "import torchvision\n",
    "import numpy as np\n",
    "import matplotlib.pyplot as plt"
   ]
  },
  {
   "cell_type": "markdown",
   "id": "intensive-february",
   "metadata": {},
   "source": [
    "# Loading Data"
   ]
  },
  {
   "cell_type": "code",
   "execution_count": 31,
   "id": "considered-producer",
   "metadata": {
    "scrolled": true
   },
   "outputs": [
    {
     "name": "stdout",
     "output_type": "stream",
     "text": [
      "Files already downloaded and verified\n",
      "Files already downloaded and verified\n"
     ]
    }
   ],
   "source": [
    "train_batchsize = 100\n",
    "test_batchsize = 10\n",
    "resized_img_size = 32\n",
    "transform = torchvision.transforms.Compose(\n",
    "    [torchvision.transforms.Resize(size=(resized_img_size, resized_img_size)),\n",
    "     torchvision.transforms.ToTensor()])\n",
    "train_data = torchvision.datasets.CIFAR10(root='data', train=True,\n",
    "                                        download=True, transform=transform)\n",
    "test_data = torchvision.datasets.CIFAR10(root='data', train=False,\n",
    "                                       download=True, transform=transform)\n",
    "train_loader = torch.utils.data.DataLoader(train_data, batch_size=train_batchsize)\n",
    "\n",
    "test_loader = torch.utils.data.DataLoader(test_data, batch_size=test_batchsize)\n",
    "\n",
    "classes = ('plane', 'car', 'bird', 'cat',\n",
    "           'deer', 'dog', 'frog', 'horse', 'ship', 'truck')"
   ]
  },
  {
   "cell_type": "markdown",
   "id": "historical-headquarters",
   "metadata": {},
   "source": [
    "# Visualize data"
   ]
  },
  {
   "cell_type": "code",
   "execution_count": 32,
   "id": "short-moldova",
   "metadata": {},
   "outputs": [
    {
     "data": {
      "text/plain": [
       "<matplotlib.image.AxesImage at 0x7f279b263a30>"
      ]
     },
     "execution_count": 32,
     "metadata": {},
     "output_type": "execute_result"
    },
    {
     "data": {
      "image/png": "[encoded data removed]",
      "text/plain": [
       "<Figure size 432x288 with 1 Axes>"
      ]
     },
     "metadata": {
      "needs_background": "light"
     },
     "output_type": "display_data"
    }
   ],
   "source": [
    "plt.imshow(train_data[10][0].permute(1,2,0)) "
   ]
  },
  {
   "cell_type": "markdown",
   "id": "checked-scope",
   "metadata": {},
   "source": [
    "# Model"
   ]
  },
  {
   "cell_type": "code",
   "execution_count": 33,
   "id": "twelve-inspector",
   "metadata": {},
   "outputs": [],
   "source": [
    "import torch.nn as nn\n",
    "import torch.nn.functional as F \n",
    "class Net(nn.Module):\n",
    "    def __init__(self):\n",
    "        super(Net, self).__init__()\n",
    "        self.conv1 = nn.Conv2d(3,5,(5,5),padding = \"same\")\n",
    "        self.pool1 = nn.MaxPool2d((3,3),stride=2)\n",
    "        self.conv2 = nn.Conv2d(5,7,(5,5),padding=\"same\")\n",
    "        self.pool2 = nn.MaxPool2d((3,3),stride=2)\n",
    "        self.conv3 = nn.Conv2d(7,9,(5,5),padding=\"same\")\n",
    "        self.pool3 = nn.MaxPool2d((3,3),stride=2)\n",
    "        self.linearlayer = nn.Linear(81,256)\n",
    "        self.linearlayer2 = nn.Linear(256,10)\n",
    "    def forward(self,X):\n",
    "        X = self.pool1(F.relu(self.conv1(X)))\n",
    "        X = self.pool2(F.relu(self.conv2(X)))\n",
    "        X = self.pool3(F.relu(self.conv3(X)))\n",
    "        X = X.view(-1,81) #Flatten\n",
    "        X = F.relu(self.linearlayer(X))\n",
    "        X = self.linearlayer2(X)\n",
    "        return X\n",
    "model = Net()\n",
    "#print(train_loader)\n",
    "#print(model([train_data[0][0]]))"
   ]
  },
  {
   "cell_type": "code",
   "execution_count": 35,
   "id": "crude-tractor",
   "metadata": {
    "scrolled": true
   },
   "outputs": [
    {
     "name": "stdout",
     "output_type": "stream",
     "text": [
      "Optimizer :  RMSprop \n",
      "\n",
      "Epoch: 1 \tTraining Loss: 4.622605\n",
      "Epoch: 2 \tTraining Loss: 1.987501\n",
      "Epoch: 3 \tTraining Loss: 1.888594\n",
      "Epoch: 4 \tTraining Loss: 1.805671\n",
      "Epoch: 5 \tTraining Loss: 1.749382\n",
      "Epoch: 6 \tTraining Loss: 1.713272\n",
      "Epoch: 7 \tTraining Loss: 1.689418\n",
      "Epoch: 8 \tTraining Loss: 1.669872\n",
      "Epoch: 9 \tTraining Loss: 1.661998\n",
      "Epoch: 10 \tTraining Loss: 1.644434\n",
      "\n",
      "-----------------------------------------\n",
      "\n",
      "Optimizer :  Adam_scratch \n",
      "\n",
      "Epoch: 1 \tTraining Loss: 1.854130\n",
      "Epoch: 2 \tTraining Loss: 1.594188\n",
      "Epoch: 3 \tTraining Loss: 1.480658\n",
      "Epoch: 4 \tTraining Loss: 1.418055\n",
      "Epoch: 5 \tTraining Loss: 1.372669\n",
      "Epoch: 6 \tTraining Loss: 1.336260\n",
      "Epoch: 7 \tTraining Loss: 1.304186\n",
      "Epoch: 8 \tTraining Loss: 1.277951\n",
      "Epoch: 9 \tTraining Loss: 1.255184\n",
      "Epoch: 10 \tTraining Loss: 1.233302\n",
      "\n",
      "-----------------------------------------\n",
      "\n",
      "Optimizer :  Adam \n",
      "\n",
      "Epoch: 1 \tTraining Loss: 1.989472\n",
      "Epoch: 2 \tTraining Loss: 1.887155\n",
      "Epoch: 3 \tTraining Loss: 1.862600\n",
      "Epoch: 4 \tTraining Loss: 1.838984\n",
      "Epoch: 5 \tTraining Loss: 1.822548\n",
      "Epoch: 6 \tTraining Loss: 1.809704\n",
      "Epoch: 7 \tTraining Loss: 1.798622\n",
      "Epoch: 8 \tTraining Loss: 1.793814\n",
      "Epoch: 9 \tTraining Loss: 1.785051\n",
      "Epoch: 10 \tTraining Loss: 1.779720\n",
      "\n",
      "-----------------------------------------\n",
      "\n",
      "Optimizer :  SGD \n",
      "\n",
      "Epoch: 1 \tTraining Loss: 2.301300\n",
      "Epoch: 2 \tTraining Loss: 2.292336\n",
      "Epoch: 3 \tTraining Loss: 2.155501\n",
      "Epoch: 4 \tTraining Loss: 1.992309\n",
      "Epoch: 5 \tTraining Loss: 1.926035\n",
      "Epoch: 6 \tTraining Loss: 1.859429\n",
      "Epoch: 7 \tTraining Loss: 1.793241\n",
      "Epoch: 8 \tTraining Loss: 1.721086\n",
      "Epoch: 9 \tTraining Loss: 1.659324\n",
      "Epoch: 10 \tTraining Loss: 1.609396\n",
      "\n",
      "-----------------------------------------\n",
      "\n",
      "Optimizer :  Adadelta \n",
      "\n",
      "Epoch: 1 \tTraining Loss: 2.301830\n",
      "Epoch: 2 \tTraining Loss: 2.298157\n",
      "Epoch: 3 \tTraining Loss: 2.285218\n",
      "Epoch: 4 \tTraining Loss: 2.225756\n",
      "Epoch: 5 \tTraining Loss: 2.107301\n",
      "Epoch: 6 \tTraining Loss: 2.048156\n",
      "Epoch: 7 \tTraining Loss: 2.022529\n",
      "Epoch: 8 \tTraining Loss: 2.005264\n",
      "Epoch: 9 \tTraining Loss: 1.991838\n",
      "Epoch: 10 \tTraining Loss: 1.980072\n",
      "\n",
      "-----------------------------------------\n",
      "\n",
      "{'RMSprop': [4.622605390548706, 1.9875008387565614, 1.88859357047081, 1.8056705420017243, 1.7493816254138947, 1.7132724571228026, 1.689418064594269, 1.6698717794418334, 1.6619983551502229, 1.6444338574409485], 'Adam_scratch': [1.8541296520233155, 1.594188051700592, 1.4806584661006927, 1.418055196285248, 1.3726690602302551, 1.3362599089145661, 1.3041860823631286, 1.2779510731697084, 1.255183667063713, 1.2333019877672196], 'Adam': [1.9894722120761872, 1.8871548852920532, 1.8626000010967254, 1.8389842371940612, 1.8225478851795196, 1.8097041206359863, 1.7986215119361877, 1.7938137221336365, 1.7850506815910339, 1.7797197172641754], 'SGD': [2.3012997074127197, 2.292336256980896, 2.1555007479190826, 1.9923089802265168, 1.9260352811813355, 1.8594292078018189, 1.7932413203716278, 1.7210862097740174, 1.6593239254951477, 1.6093963742256165], 'Adadelta': [2.301829831123352, 2.298157305240631, 2.2852183876037597, 2.2257556972503663, 2.1073013477325437, 2.048156181097031, 2.0225292167663573, 2.0052639586925505, 1.9918381736278534, 1.98007168340683]}\n"
     ]
    }
   ],
   "source": [
    "from ADAM import ADAM\n",
    "trainingLoss = {}\n",
    "# Fixed seed for random weight initialization (to keep the weights same for all\n",
    "# the models)\n",
    "#torch.manual_seed(3)\n",
    "seed = 10\n",
    "file = open(\"./results/TrainingLossess.txt\",\"w\")\n",
    "Models = []\n",
    "def trainDifOptimizer(optmzr):\n",
    "    torch.manual_seed(seed)\n",
    "    model = Net()\n",
    "    criterion = nn.CrossEntropyLoss()\n",
    "    optimizer = None\n",
    "    if optmzr=='Adam_scratch':\n",
    "      optimizer = ADAM(model.parameters(), lr=0.01) # lr=0.001 -> standard\n",
    "    else:\n",
    "      optimizer = getattr(torch.optim, optmzr)(model.parameters(), lr=0.01)\n",
    "    \n",
    "    n_epochs = 10 # suggest training between 20-50 epochs\n",
    "\n",
    "    model.train()  # prep model for training\n",
    "    trainLossForOptimizer = []\n",
    "    print(\"Optimizer : \", optmzr, \"\\n\")\n",
    "    file.writelines([\"Optimizer : \", optmzr, \"\\n\"])\n",
    "    for epoch in range(n_epochs):\n",
    "        train_loss = 0.0\n",
    "\n",
    "        for data, target in train_loader:\n",
    "            # clear the gradients of all optimized variables\n",
    "            optimizer.zero_grad()\n",
    "            # forward pass: compute predicted outputs by passing inputs to the model\n",
    "            output = model(data)\n",
    "            # calculate the loss\n",
    "            loss = criterion(output, target)\n",
    "            # backward pass: compute gradient of the loss with respect to model parameters\n",
    "            loss.backward()\n",
    "            # perform a single optimization step (parameter update)\n",
    "            optimizer.step()\n",
    "            # update running training loss\n",
    "            train_loss += loss.item()*data.size(0)\n",
    "\n",
    "        # print training statistics\n",
    "        # calculate average loss over an epoch\n",
    "        train_loss = train_loss/len(train_loader.dataset)\n",
    "        trainLossForOptimizer.append(train_loss)\n",
    "        \n",
    "        print('Epoch: {} \\tTraining Loss: {:.6f}'.format(\n",
    "            epoch+1,\n",
    "            train_loss\n",
    "        ))\n",
    "        file.write('Epoch: {} \\tTraining Loss: {:.6f}'.format(\n",
    "            epoch+1,\n",
    "            train_loss\n",
    "        ))\n",
    "    torch.save(model, 'saved_models/'+optmzr+'_cnn_model')\n",
    "    Models.append(model)\n",
    "    trainingLoss[optmzr] = trainLossForOptimizer\n",
    "    print(\"\\n-----------------------------------------\\n\")\n",
    "    file.write(\"\\n-----------------------------------------\\n\")\n",
    "\n",
    "optimizersLst = ['RMSprop','Adam_scratch','Adam', 'SGD','Adadelta']\n",
    "\n",
    "for optmzr in optimizersLst:\n",
    "    trainDifOptimizer(optmzr)\n",
    "file.write(\"***********************************OVER********************************\")\n",
    "print(trainingLoss)"
   ]
  },
  {
   "cell_type": "code",
   "execution_count": 36,
   "id": "interesting-journey",
   "metadata": {
    "scrolled": true
   },
   "outputs": [
    {
     "data": {
      "image/png": "[encoded data removed]",
      "text/plain": [
       "<Figure size 432x288 with 1 Axes>"
      ]
     },
     "metadata": {
      "needs_background": "light"
     },
     "output_type": "display_data"
    }
   ],
   "source": [
    "Xval = np.arange(1,11,1)\n",
    "\n",
    "plt.xlabel(\"Epoch\")  # add X-axis label\n",
    "plt.ylabel(\"Training Loss\")  # add Y-axis label\n",
    "plt.title(\"CNN on CiFar10 with different optimizers\")  # add title\n",
    "for key, value in trainingLoss.items():\n",
    "    plt.plot(Xval, value, label=key)\n",
    "\n",
    "plt.legend()\n",
    "plt.show()"
   ]
  },
  {
   "cell_type": "code",
   "execution_count": 39,
   "id": "eastern-cabinet",
   "metadata": {},
   "outputs": [
    {
     "name": "stdout",
     "output_type": "stream",
     "text": [
      "Accuracy of the network on the 10000 test images: 55 %\n"
     ]
    }
   ],
   "source": []
  },
  {
   "cell_type": "code",
   "execution_count": null,
   "id": "negative-homework",
   "metadata": {},
   "outputs": [],
   "source": []
  }
 ],
 "metadata": {
  "kernelspec": {
   "display_name": "Python 3",
   "language": "python",
   "name": "python3"
  },
  "language_info": {
   "codemirror_mode": {
    "name": "ipython",
    "version": 3
   },
   "file_extension": ".py",
   "mimetype": "text/x-python",
   "name": "python",
   "nbconvert_exporter": "python",
   "pygments_lexer": "ipython3",
   "version": "3.8.10"
  }
 },
 "nbformat": 4,
 "nbformat_minor": 5
}
